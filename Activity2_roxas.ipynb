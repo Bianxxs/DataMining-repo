{
 "cells": [
  {
   "cell_type": "code",
   "execution_count": 10,
   "id": "b8319acf-ab55-467f-91e5-8e3339e93c1a",
   "metadata": {},
   "outputs": [],
   "source": [
    "import numpy as np\n",
    "import matplotlib.pyplot as plt\n",
    "import pandas as pd\n",
    "import seaborn as sns"
   ]
  },
  {
   "cell_type": "code",
   "execution_count": 11,
   "id": "e38e4681-f63d-4d6c-a7b8-525ad9edcb30",
   "metadata": {},
   "outputs": [],
   "source": [
    "birdy = pd.read_csv(\"datasets\\\\penguins.csv\")"
   ]
  },
  {
   "cell_type": "code",
   "execution_count": 12,
   "id": "e6bb9e1b-d362-441c-9db2-3da4e14d3e1a",
   "metadata": {},
   "outputs": [
    {
     "data": {
      "text/html": [
       "<div>\n",
       "<style scoped>\n",
       "    .dataframe tbody tr th:only-of-type {\n",
       "        vertical-align: middle;\n",
       "    }\n",
       "\n",
       "    .dataframe tbody tr th {\n",
       "        vertical-align: top;\n",
       "    }\n",
       "\n",
       "    .dataframe thead th {\n",
       "        text-align: right;\n",
       "    }\n",
       "</style>\n",
       "<table border=\"1\" class=\"dataframe\">\n",
       "  <thead>\n",
       "    <tr style=\"text-align: right;\">\n",
       "      <th></th>\n",
       "      <th>species</th>\n",
       "      <th>island</th>\n",
       "      <th>bill_length_mm</th>\n",
       "      <th>bill_depth_mm</th>\n",
       "      <th>flipper_length_mm</th>\n",
       "      <th>body_mass_g</th>\n",
       "      <th>sex</th>\n",
       "    </tr>\n",
       "  </thead>\n",
       "  <tbody>\n",
       "    <tr>\n",
       "      <th>0</th>\n",
       "      <td>Adelie</td>\n",
       "      <td>Torgersen</td>\n",
       "      <td>39.1</td>\n",
       "      <td>18.7</td>\n",
       "      <td>181.0</td>\n",
       "      <td>3750.0</td>\n",
       "      <td>MALE</td>\n",
       "    </tr>\n",
       "    <tr>\n",
       "      <th>1</th>\n",
       "      <td>Adelie</td>\n",
       "      <td>Torgersen</td>\n",
       "      <td>39.5</td>\n",
       "      <td>17.4</td>\n",
       "      <td>186.0</td>\n",
       "      <td>3800.0</td>\n",
       "      <td>FEMALE</td>\n",
       "    </tr>\n",
       "    <tr>\n",
       "      <th>2</th>\n",
       "      <td>Adelie</td>\n",
       "      <td>Torgersen</td>\n",
       "      <td>40.3</td>\n",
       "      <td>18.0</td>\n",
       "      <td>195.0</td>\n",
       "      <td>3250.0</td>\n",
       "      <td>FEMALE</td>\n",
       "    </tr>\n",
       "    <tr>\n",
       "      <th>3</th>\n",
       "      <td>Adelie</td>\n",
       "      <td>Torgersen</td>\n",
       "      <td>NaN</td>\n",
       "      <td>NaN</td>\n",
       "      <td>NaN</td>\n",
       "      <td>NaN</td>\n",
       "      <td>NaN</td>\n",
       "    </tr>\n",
       "    <tr>\n",
       "      <th>4</th>\n",
       "      <td>Adelie</td>\n",
       "      <td>Torgersen</td>\n",
       "      <td>36.7</td>\n",
       "      <td>19.3</td>\n",
       "      <td>193.0</td>\n",
       "      <td>3450.0</td>\n",
       "      <td>FEMALE</td>\n",
       "    </tr>\n",
       "    <tr>\n",
       "      <th>...</th>\n",
       "      <td>...</td>\n",
       "      <td>...</td>\n",
       "      <td>...</td>\n",
       "      <td>...</td>\n",
       "      <td>...</td>\n",
       "      <td>...</td>\n",
       "      <td>...</td>\n",
       "    </tr>\n",
       "    <tr>\n",
       "      <th>339</th>\n",
       "      <td>Gentoo</td>\n",
       "      <td>Biscoe</td>\n",
       "      <td>NaN</td>\n",
       "      <td>NaN</td>\n",
       "      <td>NaN</td>\n",
       "      <td>NaN</td>\n",
       "      <td>NaN</td>\n",
       "    </tr>\n",
       "    <tr>\n",
       "      <th>340</th>\n",
       "      <td>Gentoo</td>\n",
       "      <td>Biscoe</td>\n",
       "      <td>46.8</td>\n",
       "      <td>14.3</td>\n",
       "      <td>215.0</td>\n",
       "      <td>4850.0</td>\n",
       "      <td>FEMALE</td>\n",
       "    </tr>\n",
       "    <tr>\n",
       "      <th>341</th>\n",
       "      <td>Gentoo</td>\n",
       "      <td>Biscoe</td>\n",
       "      <td>50.4</td>\n",
       "      <td>15.7</td>\n",
       "      <td>222.0</td>\n",
       "      <td>5750.0</td>\n",
       "      <td>MALE</td>\n",
       "    </tr>\n",
       "    <tr>\n",
       "      <th>342</th>\n",
       "      <td>Gentoo</td>\n",
       "      <td>Biscoe</td>\n",
       "      <td>45.2</td>\n",
       "      <td>14.8</td>\n",
       "      <td>212.0</td>\n",
       "      <td>5200.0</td>\n",
       "      <td>FEMALE</td>\n",
       "    </tr>\n",
       "    <tr>\n",
       "      <th>343</th>\n",
       "      <td>Gentoo</td>\n",
       "      <td>Biscoe</td>\n",
       "      <td>49.9</td>\n",
       "      <td>16.1</td>\n",
       "      <td>213.0</td>\n",
       "      <td>5400.0</td>\n",
       "      <td>MALE</td>\n",
       "    </tr>\n",
       "  </tbody>\n",
       "</table>\n",
       "<p>344 rows × 7 columns</p>\n",
       "</div>"
      ],
      "text/plain": [
       "    species     island  bill_length_mm  bill_depth_mm  flipper_length_mm  \\\n",
       "0    Adelie  Torgersen            39.1           18.7              181.0   \n",
       "1    Adelie  Torgersen            39.5           17.4              186.0   \n",
       "2    Adelie  Torgersen            40.3           18.0              195.0   \n",
       "3    Adelie  Torgersen             NaN            NaN                NaN   \n",
       "4    Adelie  Torgersen            36.7           19.3              193.0   \n",
       "..      ...        ...             ...            ...                ...   \n",
       "339  Gentoo     Biscoe             NaN            NaN                NaN   \n",
       "340  Gentoo     Biscoe            46.8           14.3              215.0   \n",
       "341  Gentoo     Biscoe            50.4           15.7              222.0   \n",
       "342  Gentoo     Biscoe            45.2           14.8              212.0   \n",
       "343  Gentoo     Biscoe            49.9           16.1              213.0   \n",
       "\n",
       "     body_mass_g     sex  \n",
       "0         3750.0    MALE  \n",
       "1         3800.0  FEMALE  \n",
       "2         3250.0  FEMALE  \n",
       "3            NaN     NaN  \n",
       "4         3450.0  FEMALE  \n",
       "..           ...     ...  \n",
       "339          NaN     NaN  \n",
       "340       4850.0  FEMALE  \n",
       "341       5750.0    MALE  \n",
       "342       5200.0  FEMALE  \n",
       "343       5400.0    MALE  \n",
       "\n",
       "[344 rows x 7 columns]"
      ]
     },
     "execution_count": 12,
     "metadata": {},
     "output_type": "execute_result"
    }
   ],
   "source": [
    "birdy"
   ]
  },
  {
   "cell_type": "markdown",
   "id": "51796461-c2c9-44f3-92e2-d5949ef7ed59",
   "metadata": {},
   "source": [
    "<h1>BASIC CHECKING AND DESCRIPTIVE ANALYTICS</h1>\n",
    "<h3>.info(), .describe()</h3>"
   ]
  },
  {
   "cell_type": "code",
   "execution_count": 5,
   "id": "caaafb21-63bc-4309-9bb0-99375ee8158d",
   "metadata": {},
   "outputs": [
    {
     "name": "stdout",
     "output_type": "stream",
     "text": [
      "<class 'pandas.core.frame.DataFrame'>\n",
      "RangeIndex: 344 entries, 0 to 343\n",
      "Data columns (total 7 columns):\n",
      " #   Column             Non-Null Count  Dtype  \n",
      "---  ------             --------------  -----  \n",
      " 0   species            344 non-null    object \n",
      " 1   island             344 non-null    object \n",
      " 2   bill_length_mm     342 non-null    float64\n",
      " 3   bill_depth_mm      342 non-null    float64\n",
      " 4   flipper_length_mm  342 non-null    float64\n",
      " 5   body_mass_g        342 non-null    float64\n",
      " 6   sex                333 non-null    object \n",
      "dtypes: float64(4), object(3)\n",
      "memory usage: 18.9+ KB\n"
     ]
    }
   ],
   "source": [
    "birdy.info()"
   ]
  },
  {
   "cell_type": "code",
   "execution_count": 6,
   "id": "e8aebec4-f197-4683-86fd-9ec6d8e841d9",
   "metadata": {},
   "outputs": [
    {
     "data": {
      "text/html": [
       "<div>\n",
       "<style scoped>\n",
       "    .dataframe tbody tr th:only-of-type {\n",
       "        vertical-align: middle;\n",
       "    }\n",
       "\n",
       "    .dataframe tbody tr th {\n",
       "        vertical-align: top;\n",
       "    }\n",
       "\n",
       "    .dataframe thead th {\n",
       "        text-align: right;\n",
       "    }\n",
       "</style>\n",
       "<table border=\"1\" class=\"dataframe\">\n",
       "  <thead>\n",
       "    <tr style=\"text-align: right;\">\n",
       "      <th></th>\n",
       "      <th>bill_length_mm</th>\n",
       "      <th>bill_depth_mm</th>\n",
       "      <th>flipper_length_mm</th>\n",
       "      <th>body_mass_g</th>\n",
       "    </tr>\n",
       "  </thead>\n",
       "  <tbody>\n",
       "    <tr>\n",
       "      <th>count</th>\n",
       "      <td>342.000000</td>\n",
       "      <td>342.000000</td>\n",
       "      <td>342.000000</td>\n",
       "      <td>342.000000</td>\n",
       "    </tr>\n",
       "    <tr>\n",
       "      <th>mean</th>\n",
       "      <td>43.921930</td>\n",
       "      <td>17.151170</td>\n",
       "      <td>200.915205</td>\n",
       "      <td>4201.754386</td>\n",
       "    </tr>\n",
       "    <tr>\n",
       "      <th>std</th>\n",
       "      <td>5.459584</td>\n",
       "      <td>1.974793</td>\n",
       "      <td>14.061714</td>\n",
       "      <td>801.954536</td>\n",
       "    </tr>\n",
       "    <tr>\n",
       "      <th>min</th>\n",
       "      <td>32.100000</td>\n",
       "      <td>13.100000</td>\n",
       "      <td>172.000000</td>\n",
       "      <td>2700.000000</td>\n",
       "    </tr>\n",
       "    <tr>\n",
       "      <th>25%</th>\n",
       "      <td>39.225000</td>\n",
       "      <td>15.600000</td>\n",
       "      <td>190.000000</td>\n",
       "      <td>3550.000000</td>\n",
       "    </tr>\n",
       "    <tr>\n",
       "      <th>50%</th>\n",
       "      <td>44.450000</td>\n",
       "      <td>17.300000</td>\n",
       "      <td>197.000000</td>\n",
       "      <td>4050.000000</td>\n",
       "    </tr>\n",
       "    <tr>\n",
       "      <th>75%</th>\n",
       "      <td>48.500000</td>\n",
       "      <td>18.700000</td>\n",
       "      <td>213.000000</td>\n",
       "      <td>4750.000000</td>\n",
       "    </tr>\n",
       "    <tr>\n",
       "      <th>max</th>\n",
       "      <td>59.600000</td>\n",
       "      <td>21.500000</td>\n",
       "      <td>231.000000</td>\n",
       "      <td>6300.000000</td>\n",
       "    </tr>\n",
       "  </tbody>\n",
       "</table>\n",
       "</div>"
      ],
      "text/plain": [
       "       bill_length_mm  bill_depth_mm  flipper_length_mm  body_mass_g\n",
       "count      342.000000     342.000000         342.000000   342.000000\n",
       "mean        43.921930      17.151170         200.915205  4201.754386\n",
       "std          5.459584       1.974793          14.061714   801.954536\n",
       "min         32.100000      13.100000         172.000000  2700.000000\n",
       "25%         39.225000      15.600000         190.000000  3550.000000\n",
       "50%         44.450000      17.300000         197.000000  4050.000000\n",
       "75%         48.500000      18.700000         213.000000  4750.000000\n",
       "max         59.600000      21.500000         231.000000  6300.000000"
      ]
     },
     "execution_count": 6,
     "metadata": {},
     "output_type": "execute_result"
    }
   ],
   "source": [
    "birdy.describe()"
   ]
  },
  {
   "cell_type": "markdown",
   "id": "a7b9fc33-fae1-40d7-aeaa-3d5dcd79b1bf",
   "metadata": {},
   "source": [
    "<h1>TO FLIP THE DESCRIBE TABLE // TRANSPOSE</h1>"
   ]
  },
  {
   "cell_type": "code",
   "execution_count": 7,
   "id": "d4bd7c13-b31d-4b60-bca9-9e4e8cb924c4",
   "metadata": {},
   "outputs": [
    {
     "data": {
      "text/html": [
       "<div>\n",
       "<style scoped>\n",
       "    .dataframe tbody tr th:only-of-type {\n",
       "        vertical-align: middle;\n",
       "    }\n",
       "\n",
       "    .dataframe tbody tr th {\n",
       "        vertical-align: top;\n",
       "    }\n",
       "\n",
       "    .dataframe thead th {\n",
       "        text-align: right;\n",
       "    }\n",
       "</style>\n",
       "<table border=\"1\" class=\"dataframe\">\n",
       "  <thead>\n",
       "    <tr style=\"text-align: right;\">\n",
       "      <th></th>\n",
       "      <th>count</th>\n",
       "      <th>mean</th>\n",
       "      <th>std</th>\n",
       "      <th>min</th>\n",
       "      <th>25%</th>\n",
       "      <th>50%</th>\n",
       "      <th>75%</th>\n",
       "      <th>max</th>\n",
       "    </tr>\n",
       "  </thead>\n",
       "  <tbody>\n",
       "    <tr>\n",
       "      <th>bill_length_mm</th>\n",
       "      <td>342.0</td>\n",
       "      <td>43.921930</td>\n",
       "      <td>5.459584</td>\n",
       "      <td>32.1</td>\n",
       "      <td>39.225</td>\n",
       "      <td>44.45</td>\n",
       "      <td>48.5</td>\n",
       "      <td>59.6</td>\n",
       "    </tr>\n",
       "    <tr>\n",
       "      <th>bill_depth_mm</th>\n",
       "      <td>342.0</td>\n",
       "      <td>17.151170</td>\n",
       "      <td>1.974793</td>\n",
       "      <td>13.1</td>\n",
       "      <td>15.600</td>\n",
       "      <td>17.30</td>\n",
       "      <td>18.7</td>\n",
       "      <td>21.5</td>\n",
       "    </tr>\n",
       "    <tr>\n",
       "      <th>flipper_length_mm</th>\n",
       "      <td>342.0</td>\n",
       "      <td>200.915205</td>\n",
       "      <td>14.061714</td>\n",
       "      <td>172.0</td>\n",
       "      <td>190.000</td>\n",
       "      <td>197.00</td>\n",
       "      <td>213.0</td>\n",
       "      <td>231.0</td>\n",
       "    </tr>\n",
       "    <tr>\n",
       "      <th>body_mass_g</th>\n",
       "      <td>342.0</td>\n",
       "      <td>4201.754386</td>\n",
       "      <td>801.954536</td>\n",
       "      <td>2700.0</td>\n",
       "      <td>3550.000</td>\n",
       "      <td>4050.00</td>\n",
       "      <td>4750.0</td>\n",
       "      <td>6300.0</td>\n",
       "    </tr>\n",
       "  </tbody>\n",
       "</table>\n",
       "</div>"
      ],
      "text/plain": [
       "                   count         mean         std     min       25%      50%  \\\n",
       "bill_length_mm     342.0    43.921930    5.459584    32.1    39.225    44.45   \n",
       "bill_depth_mm      342.0    17.151170    1.974793    13.1    15.600    17.30   \n",
       "flipper_length_mm  342.0   200.915205   14.061714   172.0   190.000   197.00   \n",
       "body_mass_g        342.0  4201.754386  801.954536  2700.0  3550.000  4050.00   \n",
       "\n",
       "                      75%     max  \n",
       "bill_length_mm       48.5    59.6  \n",
       "bill_depth_mm        18.7    21.5  \n",
       "flipper_length_mm   213.0   231.0  \n",
       "body_mass_g        4750.0  6300.0  "
      ]
     },
     "execution_count": 7,
     "metadata": {},
     "output_type": "execute_result"
    }
   ],
   "source": [
    "birdy.describe().T"
   ]
  },
  {
   "cell_type": "code",
   "execution_count": 8,
   "id": "23a63f5b-7b5d-481f-8f3d-c2a28d6b4a3c",
   "metadata": {},
   "outputs": [
    {
     "data": {
      "text/plain": [
       "0      3750.0\n",
       "1      3800.0\n",
       "2      3250.0\n",
       "3         NaN\n",
       "4      3450.0\n",
       "        ...  \n",
       "339       NaN\n",
       "340    4850.0\n",
       "341    5750.0\n",
       "342    5200.0\n",
       "343    5400.0\n",
       "Name: body_mass_g, Length: 344, dtype: float64"
      ]
     },
     "execution_count": 8,
     "metadata": {},
     "output_type": "execute_result"
    }
   ],
   "source": [
    "birdy['body_mass_g']"
   ]
  },
  {
   "cell_type": "code",
   "execution_count": 9,
   "id": "1de88cf0-18de-4b4f-8cf7-61eb50540db2",
   "metadata": {},
   "outputs": [
    {
     "data": {
      "text/plain": [
       "0      18.7\n",
       "1      17.4\n",
       "2      18.0\n",
       "3       NaN\n",
       "4      19.3\n",
       "       ... \n",
       "339     NaN\n",
       "340    14.3\n",
       "341    15.7\n",
       "342    14.8\n",
       "343    16.1\n",
       "Name: bill_depth_mm, Length: 344, dtype: float64"
      ]
     },
     "execution_count": 9,
     "metadata": {},
     "output_type": "execute_result"
    }
   ],
   "source": [
    "birdy['bill_depth_mm']"
   ]
  },
  {
   "cell_type": "markdown",
   "id": "fcfc66d6-19e7-41e6-a141-221d667a38f7",
   "metadata": {},
   "source": [
    "<h1>How to create your own column </h1>\n",
    "\n",
    "<h6>round(number to round, number of decimal place)</h6>\n",
    "<h6>issue round function only works for a singular linear operation</h6>"
   ]
  },
  {
   "cell_type": "code",
   "execution_count": 10,
   "id": "3bb8b9c3-f061-4403-b4a0-e8da22975b48",
   "metadata": {},
   "outputs": [],
   "source": [
    "#birdy['weight_kg'] = birdy['body_mass'] / 1000\n",
    "birdy['weight_kg'] = np.round(birdy['body_mass_g'] / 1000, 1)"
   ]
  },
  {
   "cell_type": "code",
   "execution_count": 11,
   "id": "e3d6a3b7-3d1f-417d-a402-d0e7584c77a5",
   "metadata": {},
   "outputs": [
    {
     "data": {
      "text/html": [
       "<div>\n",
       "<style scoped>\n",
       "    .dataframe tbody tr th:only-of-type {\n",
       "        vertical-align: middle;\n",
       "    }\n",
       "\n",
       "    .dataframe tbody tr th {\n",
       "        vertical-align: top;\n",
       "    }\n",
       "\n",
       "    .dataframe thead th {\n",
       "        text-align: right;\n",
       "    }\n",
       "</style>\n",
       "<table border=\"1\" class=\"dataframe\">\n",
       "  <thead>\n",
       "    <tr style=\"text-align: right;\">\n",
       "      <th></th>\n",
       "      <th>species</th>\n",
       "      <th>island</th>\n",
       "      <th>bill_length_mm</th>\n",
       "      <th>bill_depth_mm</th>\n",
       "      <th>flipper_length_mm</th>\n",
       "      <th>body_mass_g</th>\n",
       "      <th>sex</th>\n",
       "      <th>weight_kg</th>\n",
       "    </tr>\n",
       "  </thead>\n",
       "  <tbody>\n",
       "    <tr>\n",
       "      <th>0</th>\n",
       "      <td>Adelie</td>\n",
       "      <td>Torgersen</td>\n",
       "      <td>39.1</td>\n",
       "      <td>18.7</td>\n",
       "      <td>181.0</td>\n",
       "      <td>3750.0</td>\n",
       "      <td>MALE</td>\n",
       "      <td>3.8</td>\n",
       "    </tr>\n",
       "    <tr>\n",
       "      <th>1</th>\n",
       "      <td>Adelie</td>\n",
       "      <td>Torgersen</td>\n",
       "      <td>39.5</td>\n",
       "      <td>17.4</td>\n",
       "      <td>186.0</td>\n",
       "      <td>3800.0</td>\n",
       "      <td>FEMALE</td>\n",
       "      <td>3.8</td>\n",
       "    </tr>\n",
       "    <tr>\n",
       "      <th>2</th>\n",
       "      <td>Adelie</td>\n",
       "      <td>Torgersen</td>\n",
       "      <td>40.3</td>\n",
       "      <td>18.0</td>\n",
       "      <td>195.0</td>\n",
       "      <td>3250.0</td>\n",
       "      <td>FEMALE</td>\n",
       "      <td>3.2</td>\n",
       "    </tr>\n",
       "    <tr>\n",
       "      <th>3</th>\n",
       "      <td>Adelie</td>\n",
       "      <td>Torgersen</td>\n",
       "      <td>NaN</td>\n",
       "      <td>NaN</td>\n",
       "      <td>NaN</td>\n",
       "      <td>NaN</td>\n",
       "      <td>NaN</td>\n",
       "      <td>NaN</td>\n",
       "    </tr>\n",
       "    <tr>\n",
       "      <th>4</th>\n",
       "      <td>Adelie</td>\n",
       "      <td>Torgersen</td>\n",
       "      <td>36.7</td>\n",
       "      <td>19.3</td>\n",
       "      <td>193.0</td>\n",
       "      <td>3450.0</td>\n",
       "      <td>FEMALE</td>\n",
       "      <td>3.4</td>\n",
       "    </tr>\n",
       "    <tr>\n",
       "      <th>...</th>\n",
       "      <td>...</td>\n",
       "      <td>...</td>\n",
       "      <td>...</td>\n",
       "      <td>...</td>\n",
       "      <td>...</td>\n",
       "      <td>...</td>\n",
       "      <td>...</td>\n",
       "      <td>...</td>\n",
       "    </tr>\n",
       "    <tr>\n",
       "      <th>339</th>\n",
       "      <td>Gentoo</td>\n",
       "      <td>Biscoe</td>\n",
       "      <td>NaN</td>\n",
       "      <td>NaN</td>\n",
       "      <td>NaN</td>\n",
       "      <td>NaN</td>\n",
       "      <td>NaN</td>\n",
       "      <td>NaN</td>\n",
       "    </tr>\n",
       "    <tr>\n",
       "      <th>340</th>\n",
       "      <td>Gentoo</td>\n",
       "      <td>Biscoe</td>\n",
       "      <td>46.8</td>\n",
       "      <td>14.3</td>\n",
       "      <td>215.0</td>\n",
       "      <td>4850.0</td>\n",
       "      <td>FEMALE</td>\n",
       "      <td>4.8</td>\n",
       "    </tr>\n",
       "    <tr>\n",
       "      <th>341</th>\n",
       "      <td>Gentoo</td>\n",
       "      <td>Biscoe</td>\n",
       "      <td>50.4</td>\n",
       "      <td>15.7</td>\n",
       "      <td>222.0</td>\n",
       "      <td>5750.0</td>\n",
       "      <td>MALE</td>\n",
       "      <td>5.8</td>\n",
       "    </tr>\n",
       "    <tr>\n",
       "      <th>342</th>\n",
       "      <td>Gentoo</td>\n",
       "      <td>Biscoe</td>\n",
       "      <td>45.2</td>\n",
       "      <td>14.8</td>\n",
       "      <td>212.0</td>\n",
       "      <td>5200.0</td>\n",
       "      <td>FEMALE</td>\n",
       "      <td>5.2</td>\n",
       "    </tr>\n",
       "    <tr>\n",
       "      <th>343</th>\n",
       "      <td>Gentoo</td>\n",
       "      <td>Biscoe</td>\n",
       "      <td>49.9</td>\n",
       "      <td>16.1</td>\n",
       "      <td>213.0</td>\n",
       "      <td>5400.0</td>\n",
       "      <td>MALE</td>\n",
       "      <td>5.4</td>\n",
       "    </tr>\n",
       "  </tbody>\n",
       "</table>\n",
       "<p>344 rows × 8 columns</p>\n",
       "</div>"
      ],
      "text/plain": [
       "    species     island  bill_length_mm  bill_depth_mm  flipper_length_mm  \\\n",
       "0    Adelie  Torgersen            39.1           18.7              181.0   \n",
       "1    Adelie  Torgersen            39.5           17.4              186.0   \n",
       "2    Adelie  Torgersen            40.3           18.0              195.0   \n",
       "3    Adelie  Torgersen             NaN            NaN                NaN   \n",
       "4    Adelie  Torgersen            36.7           19.3              193.0   \n",
       "..      ...        ...             ...            ...                ...   \n",
       "339  Gentoo     Biscoe             NaN            NaN                NaN   \n",
       "340  Gentoo     Biscoe            46.8           14.3              215.0   \n",
       "341  Gentoo     Biscoe            50.4           15.7              222.0   \n",
       "342  Gentoo     Biscoe            45.2           14.8              212.0   \n",
       "343  Gentoo     Biscoe            49.9           16.1              213.0   \n",
       "\n",
       "     body_mass_g     sex  weight_kg  \n",
       "0         3750.0    MALE        3.8  \n",
       "1         3800.0  FEMALE        3.8  \n",
       "2         3250.0  FEMALE        3.2  \n",
       "3            NaN     NaN        NaN  \n",
       "4         3450.0  FEMALE        3.4  \n",
       "..           ...     ...        ...  \n",
       "339          NaN     NaN        NaN  \n",
       "340       4850.0  FEMALE        4.8  \n",
       "341       5750.0    MALE        5.8  \n",
       "342       5200.0  FEMALE        5.2  \n",
       "343       5400.0    MALE        5.4  \n",
       "\n",
       "[344 rows x 8 columns]"
      ]
     },
     "execution_count": 11,
     "metadata": {},
     "output_type": "execute_result"
    }
   ],
   "source": [
    "birdy"
   ]
  },
  {
   "cell_type": "markdown",
   "id": "47fa2a4a-ffdc-4a1c-8c61-7858973de77d",
   "metadata": {},
   "source": [
    "<h1> Applying functions to a column</h1>\n",
    "<h5>mean - average</h5>\n",
    "<h5>median - middle data</h5>\n",
    "<h5>mode - most frequent</h5>"
   ]
  },
  {
   "cell_type": "code",
   "execution_count": 12,
   "id": "74c4cc66-0eb2-4c6e-822a-4f5030448cc3",
   "metadata": {},
   "outputs": [
    {
     "data": {
      "text/plain": [
       "4201.754385964912"
      ]
     },
     "execution_count": 12,
     "metadata": {},
     "output_type": "execute_result"
    }
   ],
   "source": [
    "birdy['body_mass_g'].mean()"
   ]
  },
  {
   "cell_type": "code",
   "execution_count": 13,
   "id": "9555d08b-d68f-4567-a36d-a4044afedd58",
   "metadata": {},
   "outputs": [
    {
     "data": {
      "text/plain": [
       "4050.0"
      ]
     },
     "execution_count": 13,
     "metadata": {},
     "output_type": "execute_result"
    }
   ],
   "source": [
    "birdy['body_mass_g'].median()"
   ]
  },
  {
   "cell_type": "code",
   "execution_count": 14,
   "id": "b794754f-6492-4ce6-971e-a28acac56945",
   "metadata": {},
   "outputs": [
    {
     "data": {
      "text/plain": [
       "0    3800.0\n",
       "Name: body_mass_g, dtype: float64"
      ]
     },
     "execution_count": 14,
     "metadata": {},
     "output_type": "execute_result"
    }
   ],
   "source": [
    "birdy['body_mass_g'].mode()"
   ]
  },
  {
   "cell_type": "markdown",
   "id": "5d731f4c-c8a9-4e3f-8c3d-e91db9594a0c",
   "metadata": {},
   "source": [
    "<h1>Checking of null values</h1>"
   ]
  },
  {
   "cell_type": "code",
   "execution_count": 15,
   "id": "0d81812b-6105-49bd-bb5f-0f12d6cddfda",
   "metadata": {},
   "outputs": [
    {
     "data": {
      "text/html": [
       "<div>\n",
       "<style scoped>\n",
       "    .dataframe tbody tr th:only-of-type {\n",
       "        vertical-align: middle;\n",
       "    }\n",
       "\n",
       "    .dataframe tbody tr th {\n",
       "        vertical-align: top;\n",
       "    }\n",
       "\n",
       "    .dataframe thead th {\n",
       "        text-align: right;\n",
       "    }\n",
       "</style>\n",
       "<table border=\"1\" class=\"dataframe\">\n",
       "  <thead>\n",
       "    <tr style=\"text-align: right;\">\n",
       "      <th></th>\n",
       "      <th>species</th>\n",
       "      <th>island</th>\n",
       "      <th>bill_length_mm</th>\n",
       "      <th>bill_depth_mm</th>\n",
       "      <th>flipper_length_mm</th>\n",
       "      <th>body_mass_g</th>\n",
       "      <th>sex</th>\n",
       "      <th>weight_kg</th>\n",
       "    </tr>\n",
       "  </thead>\n",
       "  <tbody>\n",
       "    <tr>\n",
       "      <th>0</th>\n",
       "      <td>False</td>\n",
       "      <td>False</td>\n",
       "      <td>False</td>\n",
       "      <td>False</td>\n",
       "      <td>False</td>\n",
       "      <td>False</td>\n",
       "      <td>False</td>\n",
       "      <td>False</td>\n",
       "    </tr>\n",
       "    <tr>\n",
       "      <th>1</th>\n",
       "      <td>False</td>\n",
       "      <td>False</td>\n",
       "      <td>False</td>\n",
       "      <td>False</td>\n",
       "      <td>False</td>\n",
       "      <td>False</td>\n",
       "      <td>False</td>\n",
       "      <td>False</td>\n",
       "    </tr>\n",
       "    <tr>\n",
       "      <th>2</th>\n",
       "      <td>False</td>\n",
       "      <td>False</td>\n",
       "      <td>False</td>\n",
       "      <td>False</td>\n",
       "      <td>False</td>\n",
       "      <td>False</td>\n",
       "      <td>False</td>\n",
       "      <td>False</td>\n",
       "    </tr>\n",
       "    <tr>\n",
       "      <th>3</th>\n",
       "      <td>False</td>\n",
       "      <td>False</td>\n",
       "      <td>True</td>\n",
       "      <td>True</td>\n",
       "      <td>True</td>\n",
       "      <td>True</td>\n",
       "      <td>True</td>\n",
       "      <td>True</td>\n",
       "    </tr>\n",
       "    <tr>\n",
       "      <th>4</th>\n",
       "      <td>False</td>\n",
       "      <td>False</td>\n",
       "      <td>False</td>\n",
       "      <td>False</td>\n",
       "      <td>False</td>\n",
       "      <td>False</td>\n",
       "      <td>False</td>\n",
       "      <td>False</td>\n",
       "    </tr>\n",
       "    <tr>\n",
       "      <th>...</th>\n",
       "      <td>...</td>\n",
       "      <td>...</td>\n",
       "      <td>...</td>\n",
       "      <td>...</td>\n",
       "      <td>...</td>\n",
       "      <td>...</td>\n",
       "      <td>...</td>\n",
       "      <td>...</td>\n",
       "    </tr>\n",
       "    <tr>\n",
       "      <th>339</th>\n",
       "      <td>False</td>\n",
       "      <td>False</td>\n",
       "      <td>True</td>\n",
       "      <td>True</td>\n",
       "      <td>True</td>\n",
       "      <td>True</td>\n",
       "      <td>True</td>\n",
       "      <td>True</td>\n",
       "    </tr>\n",
       "    <tr>\n",
       "      <th>340</th>\n",
       "      <td>False</td>\n",
       "      <td>False</td>\n",
       "      <td>False</td>\n",
       "      <td>False</td>\n",
       "      <td>False</td>\n",
       "      <td>False</td>\n",
       "      <td>False</td>\n",
       "      <td>False</td>\n",
       "    </tr>\n",
       "    <tr>\n",
       "      <th>341</th>\n",
       "      <td>False</td>\n",
       "      <td>False</td>\n",
       "      <td>False</td>\n",
       "      <td>False</td>\n",
       "      <td>False</td>\n",
       "      <td>False</td>\n",
       "      <td>False</td>\n",
       "      <td>False</td>\n",
       "    </tr>\n",
       "    <tr>\n",
       "      <th>342</th>\n",
       "      <td>False</td>\n",
       "      <td>False</td>\n",
       "      <td>False</td>\n",
       "      <td>False</td>\n",
       "      <td>False</td>\n",
       "      <td>False</td>\n",
       "      <td>False</td>\n",
       "      <td>False</td>\n",
       "    </tr>\n",
       "    <tr>\n",
       "      <th>343</th>\n",
       "      <td>False</td>\n",
       "      <td>False</td>\n",
       "      <td>False</td>\n",
       "      <td>False</td>\n",
       "      <td>False</td>\n",
       "      <td>False</td>\n",
       "      <td>False</td>\n",
       "      <td>False</td>\n",
       "    </tr>\n",
       "  </tbody>\n",
       "</table>\n",
       "<p>344 rows × 8 columns</p>\n",
       "</div>"
      ],
      "text/plain": [
       "     species  island  bill_length_mm  bill_depth_mm  flipper_length_mm  \\\n",
       "0      False   False           False          False              False   \n",
       "1      False   False           False          False              False   \n",
       "2      False   False           False          False              False   \n",
       "3      False   False            True           True               True   \n",
       "4      False   False           False          False              False   \n",
       "..       ...     ...             ...            ...                ...   \n",
       "339    False   False            True           True               True   \n",
       "340    False   False           False          False              False   \n",
       "341    False   False           False          False              False   \n",
       "342    False   False           False          False              False   \n",
       "343    False   False           False          False              False   \n",
       "\n",
       "     body_mass_g    sex  weight_kg  \n",
       "0          False  False      False  \n",
       "1          False  False      False  \n",
       "2          False  False      False  \n",
       "3           True   True       True  \n",
       "4          False  False      False  \n",
       "..           ...    ...        ...  \n",
       "339         True   True       True  \n",
       "340        False  False      False  \n",
       "341        False  False      False  \n",
       "342        False  False      False  \n",
       "343        False  False      False  \n",
       "\n",
       "[344 rows x 8 columns]"
      ]
     },
     "execution_count": 15,
     "metadata": {},
     "output_type": "execute_result"
    }
   ],
   "source": [
    "birdy.isnull()"
   ]
  },
  {
   "cell_type": "code",
   "execution_count": 16,
   "id": "542cc922-a27a-4ef4-be8d-be3df80e4f59",
   "metadata": {},
   "outputs": [
    {
     "data": {
      "text/plain": [
       "species               0\n",
       "island                0\n",
       "bill_length_mm        2\n",
       "bill_depth_mm         2\n",
       "flipper_length_mm     2\n",
       "body_mass_g           2\n",
       "sex                  11\n",
       "weight_kg             2\n",
       "dtype: int64"
      ]
     },
     "execution_count": 16,
     "metadata": {},
     "output_type": "execute_result"
    }
   ],
   "source": [
    "birdy.isnull().sum()"
   ]
  },
  {
   "cell_type": "markdown",
   "id": "9162af97-e98b-4174-80ca-a5d760c6fbf4",
   "metadata": {},
   "source": [
    "<h1>What to do with null values</h1>\n",
    "<h5>delete the row</h5>\n",
    "<h5>place / fillup the missing data</h5>"
   ]
  },
  {
   "cell_type": "markdown",
   "id": "1f9280fd-0d1d-4ee8-9057-40e09c1c21e3",
   "metadata": {},
   "source": [
    "<h1>FILLING UP MISSING VALUES IN THE DATA FRAME</h1>"
   ]
  },
  {
   "cell_type": "code",
   "execution_count": 17,
   "id": "eefe29c3-a5dc-44e5-8c22-7ed820d5aa11",
   "metadata": {},
   "outputs": [
    {
     "data": {
      "text/plain": [
       "0      39.1\n",
       "1      39.5\n",
       "2      40.3\n",
       "3       NaN\n",
       "4      36.7\n",
       "       ... \n",
       "339     NaN\n",
       "340    46.8\n",
       "341    50.4\n",
       "342    45.2\n",
       "343    49.9\n",
       "Name: bill_length_mm, Length: 344, dtype: float64"
      ]
     },
     "execution_count": 17,
     "metadata": {},
     "output_type": "execute_result"
    }
   ],
   "source": [
    "birdy['bill_length_mm']"
   ]
  },
  {
   "cell_type": "code",
   "execution_count": 18,
   "id": "d74bd248-d3c7-4ab8-94fc-7434eeaecdfd",
   "metadata": {},
   "outputs": [],
   "source": [
    "#birdy['bill_length_mm'] = birdy['bill_length_mm'].mean()\n",
    "birdy['bill_length_mm'] = birdy['bill_length_mm'].fillna(birdy['bill_length_mm'].mean())"
   ]
  },
  {
   "cell_type": "code",
   "execution_count": 19,
   "id": "fac2a02c-f0d8-440e-9e22-0d220f91952f",
   "metadata": {},
   "outputs": [
    {
     "data": {
      "text/plain": [
       "species               0\n",
       "island                0\n",
       "bill_length_mm        0\n",
       "bill_depth_mm         2\n",
       "flipper_length_mm     2\n",
       "body_mass_g           2\n",
       "sex                  11\n",
       "weight_kg             2\n",
       "dtype: int64"
      ]
     },
     "execution_count": 19,
     "metadata": {},
     "output_type": "execute_result"
    }
   ],
   "source": [
    "birdy.isnull().sum()"
   ]
  },
  {
   "cell_type": "code",
   "execution_count": 20,
   "id": "735c6fa7-3d82-4f2f-832d-2624ec0ed1de",
   "metadata": {},
   "outputs": [],
   "source": [
    "birdy['bill_depth_mm'] = birdy['bill_depth_mm'].fillna(birdy['bill_depth_mm'].mean())"
   ]
  },
  {
   "cell_type": "code",
   "execution_count": 21,
   "id": "849d661f-4101-4d2a-bd3a-7a925bf8469f",
   "metadata": {},
   "outputs": [
    {
     "data": {
      "text/plain": [
       "species               0\n",
       "island                0\n",
       "bill_length_mm        0\n",
       "bill_depth_mm         0\n",
       "flipper_length_mm     2\n",
       "body_mass_g           2\n",
       "sex                  11\n",
       "weight_kg             2\n",
       "dtype: int64"
      ]
     },
     "execution_count": 21,
     "metadata": {},
     "output_type": "execute_result"
    }
   ],
   "source": [
    "birdy.isnull().sum()"
   ]
  },
  {
   "cell_type": "code",
   "execution_count": 22,
   "id": "db1fcf5c-9a37-443a-a355-c4501f369767",
   "metadata": {},
   "outputs": [],
   "source": [
    "birdy['flipper_length_mm'] = birdy['flipper_length_mm'].fillna(birdy['flipper_length_mm'].mean())"
   ]
  },
  {
   "cell_type": "code",
   "execution_count": 23,
   "id": "bc1c9b63-244d-4b03-8f9b-f9d94dc618b8",
   "metadata": {},
   "outputs": [
    {
     "data": {
      "text/plain": [
       "species               0\n",
       "island                0\n",
       "bill_length_mm        0\n",
       "bill_depth_mm         0\n",
       "flipper_length_mm     0\n",
       "body_mass_g           2\n",
       "sex                  11\n",
       "weight_kg             2\n",
       "dtype: int64"
      ]
     },
     "execution_count": 23,
     "metadata": {},
     "output_type": "execute_result"
    }
   ],
   "source": [
    "birdy.isnull().sum()"
   ]
  },
  {
   "cell_type": "code",
   "execution_count": 24,
   "id": "c22027ea-25f7-4388-b015-ee64cf2fcfa2",
   "metadata": {},
   "outputs": [],
   "source": [
    "birdy['body_mass_g'] = birdy['body_mass_g'].fillna(birdy['body_mass_g'].mean())"
   ]
  },
  {
   "cell_type": "code",
   "execution_count": 25,
   "id": "c13755cf-87a6-48ad-b0aa-f8606a864a0d",
   "metadata": {},
   "outputs": [
    {
     "data": {
      "text/plain": [
       "species               0\n",
       "island                0\n",
       "bill_length_mm        0\n",
       "bill_depth_mm         0\n",
       "flipper_length_mm     0\n",
       "body_mass_g           0\n",
       "sex                  11\n",
       "weight_kg             2\n",
       "dtype: int64"
      ]
     },
     "execution_count": 25,
     "metadata": {},
     "output_type": "execute_result"
    }
   ],
   "source": [
    "birdy.isnull().sum()"
   ]
  },
  {
   "cell_type": "code",
   "execution_count": 26,
   "id": "5363371f-f4ff-4cfc-983e-e5d10895a808",
   "metadata": {},
   "outputs": [],
   "source": [
    "birdy['sex'] = birdy['sex'].fillna(birdy['sex'].mode()[0])"
   ]
  },
  {
   "cell_type": "code",
   "execution_count": 27,
   "id": "cfab6abc-64c1-469f-8118-06d110c338aa",
   "metadata": {},
   "outputs": [
    {
     "data": {
      "text/plain": [
       "species              0\n",
       "island               0\n",
       "bill_length_mm       0\n",
       "bill_depth_mm        0\n",
       "flipper_length_mm    0\n",
       "body_mass_g          0\n",
       "sex                  0\n",
       "weight_kg            2\n",
       "dtype: int64"
      ]
     },
     "execution_count": 27,
     "metadata": {},
     "output_type": "execute_result"
    }
   ],
   "source": [
    "birdy.isnull().sum()"
   ]
  },
  {
   "cell_type": "code",
   "execution_count": 28,
   "id": "d0fdd92f-2c97-4dfa-92ae-2a51bd3f37e0",
   "metadata": {},
   "outputs": [
    {
     "data": {
      "text/plain": [
       "0    MALE\n",
       "Name: sex, dtype: object"
      ]
     },
     "execution_count": 28,
     "metadata": {},
     "output_type": "execute_result"
    }
   ],
   "source": [
    "birdy['sex'].mode()"
   ]
  },
  {
   "cell_type": "code",
   "execution_count": 29,
   "id": "6244aaea-3a1b-4430-bf5b-a816459b2d56",
   "metadata": {},
   "outputs": [],
   "source": [
    "birdy['weight_kg'] = birdy['weight_kg'].fillna(birdy['weight_kg'].mean())"
   ]
  },
  {
   "cell_type": "code",
   "execution_count": 30,
   "id": "a488fd8c-9664-4ebd-9f64-06c82df67247",
   "metadata": {},
   "outputs": [
    {
     "data": {
      "text/plain": [
       "species              0\n",
       "island               0\n",
       "bill_length_mm       0\n",
       "bill_depth_mm        0\n",
       "flipper_length_mm    0\n",
       "body_mass_g          0\n",
       "sex                  0\n",
       "weight_kg            0\n",
       "dtype: int64"
      ]
     },
     "execution_count": 30,
     "metadata": {},
     "output_type": "execute_result"
    }
   ],
   "source": [
    "birdy.isnull().sum()"
   ]
  },
  {
   "cell_type": "markdown",
   "id": "21bdc67d-da55-4ebe-9cc3-8de657235aef",
   "metadata": {},
   "source": [
    "<h1>Using of .tail(), .head()</h1>"
   ]
  },
  {
   "cell_type": "code",
   "execution_count": 31,
   "id": "195d6e21-c76a-4e8b-840f-35f7fc5d2f52",
   "metadata": {},
   "outputs": [
    {
     "data": {
      "text/plain": [
       "324    Gentoo\n",
       "325    Gentoo\n",
       "326    Gentoo\n",
       "327    Gentoo\n",
       "328    Gentoo\n",
       "329    Gentoo\n",
       "330    Gentoo\n",
       "331    Gentoo\n",
       "332    Gentoo\n",
       "333    Gentoo\n",
       "334    Gentoo\n",
       "335    Gentoo\n",
       "336    Gentoo\n",
       "337    Gentoo\n",
       "338    Gentoo\n",
       "339    Gentoo\n",
       "340    Gentoo\n",
       "341    Gentoo\n",
       "342    Gentoo\n",
       "343    Gentoo\n",
       "Name: species, dtype: object"
      ]
     },
     "execution_count": 31,
     "metadata": {},
     "output_type": "execute_result"
    }
   ],
   "source": [
    "birdy['species'].tail(20)"
   ]
  },
  {
   "cell_type": "code",
   "execution_count": 32,
   "id": "8b431ecd-cae0-497e-9438-f00eb7784c5b",
   "metadata": {},
   "outputs": [
    {
     "data": {
      "text/plain": [
       "0     Adelie\n",
       "1     Adelie\n",
       "2     Adelie\n",
       "3     Adelie\n",
       "4     Adelie\n",
       "5     Adelie\n",
       "6     Adelie\n",
       "7     Adelie\n",
       "8     Adelie\n",
       "9     Adelie\n",
       "10    Adelie\n",
       "11    Adelie\n",
       "12    Adelie\n",
       "13    Adelie\n",
       "14    Adelie\n",
       "15    Adelie\n",
       "16    Adelie\n",
       "17    Adelie\n",
       "18    Adelie\n",
       "19    Adelie\n",
       "Name: species, dtype: object"
      ]
     },
     "execution_count": 32,
     "metadata": {},
     "output_type": "execute_result"
    }
   ],
   "source": [
    "birdy['species'].head(20)"
   ]
  },
  {
   "cell_type": "markdown",
   "id": "9d615dd1-f5b3-4c11-9570-03dd86d0b260",
   "metadata": {},
   "source": [
    "<h1>How to drop column?</h1>\n",
    "\n",
    "<h6>torrero_bird.drop(column = 'weight_kg')</h6>"
   ]
  },
  {
   "cell_type": "markdown",
   "id": "bdd76b69-6b85-48be-8238-0dc523843d3f",
   "metadata": {},
   "source": [
    "<h1>COLUMN DATA TYPE</h1>"
   ]
  },
  {
   "cell_type": "code",
   "execution_count": 33,
   "id": "2786c396-7f74-4e37-b0cb-6b0291d9d684",
   "metadata": {},
   "outputs": [
    {
     "name": "stdout",
     "output_type": "stream",
     "text": [
      "<class 'pandas.core.frame.DataFrame'>\n",
      "RangeIndex: 344 entries, 0 to 343\n",
      "Data columns (total 8 columns):\n",
      " #   Column             Non-Null Count  Dtype  \n",
      "---  ------             --------------  -----  \n",
      " 0   species            344 non-null    object \n",
      " 1   island             344 non-null    object \n",
      " 2   bill_length_mm     344 non-null    float64\n",
      " 3   bill_depth_mm      344 non-null    float64\n",
      " 4   flipper_length_mm  344 non-null    float64\n",
      " 5   body_mass_g        344 non-null    float64\n",
      " 6   sex                344 non-null    object \n",
      " 7   weight_kg          344 non-null    float64\n",
      "dtypes: float64(5), object(3)\n",
      "memory usage: 21.6+ KB\n"
     ]
    }
   ],
   "source": [
    "birdy.info()"
   ]
  },
  {
   "cell_type": "code",
   "execution_count": 34,
   "id": "ebf18859-8a93-435c-80ba-51475c913468",
   "metadata": {},
   "outputs": [],
   "source": [
    "birdy['species'] = birdy['species'].astype('category')"
   ]
  },
  {
   "cell_type": "code",
   "execution_count": 35,
   "id": "92580c58-fd20-4f0e-837c-1243a1315f64",
   "metadata": {},
   "outputs": [
    {
     "name": "stdout",
     "output_type": "stream",
     "text": [
      "<class 'pandas.core.frame.DataFrame'>\n",
      "RangeIndex: 344 entries, 0 to 343\n",
      "Data columns (total 8 columns):\n",
      " #   Column             Non-Null Count  Dtype   \n",
      "---  ------             --------------  -----   \n",
      " 0   species            344 non-null    category\n",
      " 1   island             344 non-null    object  \n",
      " 2   bill_length_mm     344 non-null    float64 \n",
      " 3   bill_depth_mm      344 non-null    float64 \n",
      " 4   flipper_length_mm  344 non-null    float64 \n",
      " 5   body_mass_g        344 non-null    float64 \n",
      " 6   sex                344 non-null    object  \n",
      " 7   weight_kg          344 non-null    float64 \n",
      "dtypes: category(1), float64(5), object(2)\n",
      "memory usage: 19.4+ KB\n"
     ]
    }
   ],
   "source": [
    "birdy.info()"
   ]
  },
  {
   "cell_type": "code",
   "execution_count": 36,
   "id": "f338182c-d11d-4f9f-a964-e631a5630cb0",
   "metadata": {},
   "outputs": [],
   "source": [
    "birdy['island'] = birdy['island'].astype('category')"
   ]
  },
  {
   "cell_type": "code",
   "execution_count": 37,
   "id": "e9d78369-cf2e-42a1-97ed-97091236a728",
   "metadata": {},
   "outputs": [
    {
     "name": "stdout",
     "output_type": "stream",
     "text": [
      "<class 'pandas.core.frame.DataFrame'>\n",
      "RangeIndex: 344 entries, 0 to 343\n",
      "Data columns (total 8 columns):\n",
      " #   Column             Non-Null Count  Dtype   \n",
      "---  ------             --------------  -----   \n",
      " 0   species            344 non-null    category\n",
      " 1   island             344 non-null    category\n",
      " 2   bill_length_mm     344 non-null    float64 \n",
      " 3   bill_depth_mm      344 non-null    float64 \n",
      " 4   flipper_length_mm  344 non-null    float64 \n",
      " 5   body_mass_g        344 non-null    float64 \n",
      " 6   sex                344 non-null    object  \n",
      " 7   weight_kg          344 non-null    float64 \n",
      "dtypes: category(2), float64(5), object(1)\n",
      "memory usage: 17.2+ KB\n"
     ]
    }
   ],
   "source": [
    "birdy.info()"
   ]
  },
  {
   "cell_type": "code",
   "execution_count": 38,
   "id": "2c641cea-3089-4ad3-b981-166969bd140b",
   "metadata": {},
   "outputs": [],
   "source": [
    "birdy['sex'] = birdy['sex'].astype('category')"
   ]
  },
  {
   "cell_type": "code",
   "execution_count": 39,
   "id": "15d9eccc-20ab-4e25-a94c-32cd68830197",
   "metadata": {},
   "outputs": [
    {
     "name": "stdout",
     "output_type": "stream",
     "text": [
      "<class 'pandas.core.frame.DataFrame'>\n",
      "RangeIndex: 344 entries, 0 to 343\n",
      "Data columns (total 8 columns):\n",
      " #   Column             Non-Null Count  Dtype   \n",
      "---  ------             --------------  -----   \n",
      " 0   species            344 non-null    category\n",
      " 1   island             344 non-null    category\n",
      " 2   bill_length_mm     344 non-null    float64 \n",
      " 3   bill_depth_mm      344 non-null    float64 \n",
      " 4   flipper_length_mm  344 non-null    float64 \n",
      " 5   body_mass_g        344 non-null    float64 \n",
      " 6   sex                344 non-null    category\n",
      " 7   weight_kg          344 non-null    float64 \n",
      "dtypes: category(3), float64(5)\n",
      "memory usage: 15.0 KB\n"
     ]
    }
   ],
   "source": [
    "birdy.info()"
   ]
  },
  {
   "cell_type": "markdown",
   "id": "d42eba7f-8513-42a3-b13b-1ab5a9574bb3",
   "metadata": {},
   "source": [
    "<h1>DATA EXPLORATION</h1>"
   ]
  },
  {
   "cell_type": "code",
   "execution_count": 40,
   "id": "1810a920-035d-4cd2-99f8-25b47ca2d29f",
   "metadata": {},
   "outputs": [
    {
     "data": {
      "text/plain": [
       "species\n",
       "Adelie       152\n",
       "Gentoo       124\n",
       "Chinstrap     68\n",
       "Name: count, dtype: int64"
      ]
     },
     "execution_count": 40,
     "metadata": {},
     "output_type": "execute_result"
    }
   ],
   "source": [
    "birdy['species'].value_counts()"
   ]
  },
  {
   "cell_type": "code",
   "execution_count": 41,
   "id": "a802909f-99da-4ab6-abc0-689125a1b6cb",
   "metadata": {},
   "outputs": [
    {
     "data": {
      "text/plain": [
       "island\n",
       "Biscoe       168\n",
       "Dream        124\n",
       "Torgersen     52\n",
       "Name: count, dtype: int64"
      ]
     },
     "execution_count": 41,
     "metadata": {},
     "output_type": "execute_result"
    }
   ],
   "source": [
    "birdy['island'].value_counts()"
   ]
  },
  {
   "cell_type": "markdown",
   "id": "b1743a11-1c53-4acb-aba2-5c0449992fe0",
   "metadata": {},
   "source": [
    "<h1>DOES THE ADELIE PENGUIN LIVE EXCLUSIVELY ON AN ISLAND</h1>"
   ]
  },
  {
   "cell_type": "code",
   "execution_count": 42,
   "id": "b99d0154-edac-4fbe-8645-ae41a5244507",
   "metadata": {},
   "outputs": [
    {
     "data": {
      "text/plain": [
       "0       True\n",
       "1       True\n",
       "2       True\n",
       "3       True\n",
       "4       True\n",
       "       ...  \n",
       "339    False\n",
       "340    False\n",
       "341    False\n",
       "342    False\n",
       "343    False\n",
       "Name: species, Length: 344, dtype: bool"
      ]
     },
     "execution_count": 42,
     "metadata": {},
     "output_type": "execute_result"
    }
   ],
   "source": [
    "birdy['species'] == 'Adelie'"
   ]
  },
  {
   "cell_type": "code",
   "execution_count": 43,
   "id": "fa473afc-7020-4a88-a906-aa499dbdcabd",
   "metadata": {},
   "outputs": [
    {
     "data": {
      "text/html": [
       "<div>\n",
       "<style scoped>\n",
       "    .dataframe tbody tr th:only-of-type {\n",
       "        vertical-align: middle;\n",
       "    }\n",
       "\n",
       "    .dataframe tbody tr th {\n",
       "        vertical-align: top;\n",
       "    }\n",
       "\n",
       "    .dataframe thead th {\n",
       "        text-align: right;\n",
       "    }\n",
       "</style>\n",
       "<table border=\"1\" class=\"dataframe\">\n",
       "  <thead>\n",
       "    <tr style=\"text-align: right;\">\n",
       "      <th></th>\n",
       "      <th>species</th>\n",
       "      <th>island</th>\n",
       "      <th>bill_length_mm</th>\n",
       "      <th>bill_depth_mm</th>\n",
       "      <th>flipper_length_mm</th>\n",
       "      <th>body_mass_g</th>\n",
       "      <th>sex</th>\n",
       "      <th>weight_kg</th>\n",
       "    </tr>\n",
       "  </thead>\n",
       "  <tbody>\n",
       "    <tr>\n",
       "      <th>0</th>\n",
       "      <td>Adelie</td>\n",
       "      <td>Torgersen</td>\n",
       "      <td>39.10000</td>\n",
       "      <td>18.70000</td>\n",
       "      <td>181.000000</td>\n",
       "      <td>3750.000000</td>\n",
       "      <td>MALE</td>\n",
       "      <td>3.800000</td>\n",
       "    </tr>\n",
       "    <tr>\n",
       "      <th>1</th>\n",
       "      <td>Adelie</td>\n",
       "      <td>Torgersen</td>\n",
       "      <td>39.50000</td>\n",
       "      <td>17.40000</td>\n",
       "      <td>186.000000</td>\n",
       "      <td>3800.000000</td>\n",
       "      <td>FEMALE</td>\n",
       "      <td>3.800000</td>\n",
       "    </tr>\n",
       "    <tr>\n",
       "      <th>2</th>\n",
       "      <td>Adelie</td>\n",
       "      <td>Torgersen</td>\n",
       "      <td>40.30000</td>\n",
       "      <td>18.00000</td>\n",
       "      <td>195.000000</td>\n",
       "      <td>3250.000000</td>\n",
       "      <td>FEMALE</td>\n",
       "      <td>3.200000</td>\n",
       "    </tr>\n",
       "    <tr>\n",
       "      <th>3</th>\n",
       "      <td>Adelie</td>\n",
       "      <td>Torgersen</td>\n",
       "      <td>43.92193</td>\n",
       "      <td>17.15117</td>\n",
       "      <td>200.915205</td>\n",
       "      <td>4201.754386</td>\n",
       "      <td>MALE</td>\n",
       "      <td>4.202047</td>\n",
       "    </tr>\n",
       "    <tr>\n",
       "      <th>4</th>\n",
       "      <td>Adelie</td>\n",
       "      <td>Torgersen</td>\n",
       "      <td>36.70000</td>\n",
       "      <td>19.30000</td>\n",
       "      <td>193.000000</td>\n",
       "      <td>3450.000000</td>\n",
       "      <td>FEMALE</td>\n",
       "      <td>3.400000</td>\n",
       "    </tr>\n",
       "    <tr>\n",
       "      <th>...</th>\n",
       "      <td>...</td>\n",
       "      <td>...</td>\n",
       "      <td>...</td>\n",
       "      <td>...</td>\n",
       "      <td>...</td>\n",
       "      <td>...</td>\n",
       "      <td>...</td>\n",
       "      <td>...</td>\n",
       "    </tr>\n",
       "    <tr>\n",
       "      <th>147</th>\n",
       "      <td>Adelie</td>\n",
       "      <td>Dream</td>\n",
       "      <td>36.60000</td>\n",
       "      <td>18.40000</td>\n",
       "      <td>184.000000</td>\n",
       "      <td>3475.000000</td>\n",
       "      <td>FEMALE</td>\n",
       "      <td>3.500000</td>\n",
       "    </tr>\n",
       "    <tr>\n",
       "      <th>148</th>\n",
       "      <td>Adelie</td>\n",
       "      <td>Dream</td>\n",
       "      <td>36.00000</td>\n",
       "      <td>17.80000</td>\n",
       "      <td>195.000000</td>\n",
       "      <td>3450.000000</td>\n",
       "      <td>FEMALE</td>\n",
       "      <td>3.400000</td>\n",
       "    </tr>\n",
       "    <tr>\n",
       "      <th>149</th>\n",
       "      <td>Adelie</td>\n",
       "      <td>Dream</td>\n",
       "      <td>37.80000</td>\n",
       "      <td>18.10000</td>\n",
       "      <td>193.000000</td>\n",
       "      <td>3750.000000</td>\n",
       "      <td>MALE</td>\n",
       "      <td>3.800000</td>\n",
       "    </tr>\n",
       "    <tr>\n",
       "      <th>150</th>\n",
       "      <td>Adelie</td>\n",
       "      <td>Dream</td>\n",
       "      <td>36.00000</td>\n",
       "      <td>17.10000</td>\n",
       "      <td>187.000000</td>\n",
       "      <td>3700.000000</td>\n",
       "      <td>FEMALE</td>\n",
       "      <td>3.700000</td>\n",
       "    </tr>\n",
       "    <tr>\n",
       "      <th>151</th>\n",
       "      <td>Adelie</td>\n",
       "      <td>Dream</td>\n",
       "      <td>41.50000</td>\n",
       "      <td>18.50000</td>\n",
       "      <td>201.000000</td>\n",
       "      <td>4000.000000</td>\n",
       "      <td>MALE</td>\n",
       "      <td>4.000000</td>\n",
       "    </tr>\n",
       "  </tbody>\n",
       "</table>\n",
       "<p>152 rows × 8 columns</p>\n",
       "</div>"
      ],
      "text/plain": [
       "    species     island  bill_length_mm  bill_depth_mm  flipper_length_mm  \\\n",
       "0    Adelie  Torgersen        39.10000       18.70000         181.000000   \n",
       "1    Adelie  Torgersen        39.50000       17.40000         186.000000   \n",
       "2    Adelie  Torgersen        40.30000       18.00000         195.000000   \n",
       "3    Adelie  Torgersen        43.92193       17.15117         200.915205   \n",
       "4    Adelie  Torgersen        36.70000       19.30000         193.000000   \n",
       "..      ...        ...             ...            ...                ...   \n",
       "147  Adelie      Dream        36.60000       18.40000         184.000000   \n",
       "148  Adelie      Dream        36.00000       17.80000         195.000000   \n",
       "149  Adelie      Dream        37.80000       18.10000         193.000000   \n",
       "150  Adelie      Dream        36.00000       17.10000         187.000000   \n",
       "151  Adelie      Dream        41.50000       18.50000         201.000000   \n",
       "\n",
       "     body_mass_g     sex  weight_kg  \n",
       "0    3750.000000    MALE   3.800000  \n",
       "1    3800.000000  FEMALE   3.800000  \n",
       "2    3250.000000  FEMALE   3.200000  \n",
       "3    4201.754386    MALE   4.202047  \n",
       "4    3450.000000  FEMALE   3.400000  \n",
       "..           ...     ...        ...  \n",
       "147  3475.000000  FEMALE   3.500000  \n",
       "148  3450.000000  FEMALE   3.400000  \n",
       "149  3750.000000    MALE   3.800000  \n",
       "150  3700.000000  FEMALE   3.700000  \n",
       "151  4000.000000    MALE   4.000000  \n",
       "\n",
       "[152 rows x 8 columns]"
      ]
     },
     "execution_count": 43,
     "metadata": {},
     "output_type": "execute_result"
    }
   ],
   "source": [
    "birdy[birdy['species'] == 'Adelie']"
   ]
  },
  {
   "cell_type": "code",
   "execution_count": 44,
   "id": "465ef97e-6db7-45e2-85c5-09f69392edd7",
   "metadata": {},
   "outputs": [
    {
     "data": {
      "text/plain": [
       "0      False\n",
       "1      False\n",
       "2      False\n",
       "3      False\n",
       "4      False\n",
       "       ...  \n",
       "339     True\n",
       "340     True\n",
       "341     True\n",
       "342     True\n",
       "343     True\n",
       "Name: island, Length: 344, dtype: bool"
      ]
     },
     "execution_count": 44,
     "metadata": {},
     "output_type": "execute_result"
    }
   ],
   "source": [
    "birdy['island'] == 'Biscoe'"
   ]
  },
  {
   "cell_type": "code",
   "execution_count": 45,
   "id": "8b6884bc-b676-4003-b626-a1937dd643ac",
   "metadata": {},
   "outputs": [
    {
     "data": {
      "text/html": [
       "<div>\n",
       "<style scoped>\n",
       "    .dataframe tbody tr th:only-of-type {\n",
       "        vertical-align: middle;\n",
       "    }\n",
       "\n",
       "    .dataframe tbody tr th {\n",
       "        vertical-align: top;\n",
       "    }\n",
       "\n",
       "    .dataframe thead th {\n",
       "        text-align: right;\n",
       "    }\n",
       "</style>\n",
       "<table border=\"1\" class=\"dataframe\">\n",
       "  <thead>\n",
       "    <tr style=\"text-align: right;\">\n",
       "      <th></th>\n",
       "      <th>species</th>\n",
       "      <th>island</th>\n",
       "      <th>bill_length_mm</th>\n",
       "      <th>bill_depth_mm</th>\n",
       "      <th>flipper_length_mm</th>\n",
       "      <th>body_mass_g</th>\n",
       "      <th>sex</th>\n",
       "      <th>weight_kg</th>\n",
       "    </tr>\n",
       "  </thead>\n",
       "  <tbody>\n",
       "    <tr>\n",
       "      <th>20</th>\n",
       "      <td>Adelie</td>\n",
       "      <td>Biscoe</td>\n",
       "      <td>37.80000</td>\n",
       "      <td>18.30000</td>\n",
       "      <td>174.000000</td>\n",
       "      <td>3400.000000</td>\n",
       "      <td>FEMALE</td>\n",
       "      <td>3.400000</td>\n",
       "    </tr>\n",
       "    <tr>\n",
       "      <th>21</th>\n",
       "      <td>Adelie</td>\n",
       "      <td>Biscoe</td>\n",
       "      <td>37.70000</td>\n",
       "      <td>18.70000</td>\n",
       "      <td>180.000000</td>\n",
       "      <td>3600.000000</td>\n",
       "      <td>MALE</td>\n",
       "      <td>3.600000</td>\n",
       "    </tr>\n",
       "    <tr>\n",
       "      <th>22</th>\n",
       "      <td>Adelie</td>\n",
       "      <td>Biscoe</td>\n",
       "      <td>35.90000</td>\n",
       "      <td>19.20000</td>\n",
       "      <td>189.000000</td>\n",
       "      <td>3800.000000</td>\n",
       "      <td>FEMALE</td>\n",
       "      <td>3.800000</td>\n",
       "    </tr>\n",
       "    <tr>\n",
       "      <th>23</th>\n",
       "      <td>Adelie</td>\n",
       "      <td>Biscoe</td>\n",
       "      <td>38.20000</td>\n",
       "      <td>18.10000</td>\n",
       "      <td>185.000000</td>\n",
       "      <td>3950.000000</td>\n",
       "      <td>MALE</td>\n",
       "      <td>4.000000</td>\n",
       "    </tr>\n",
       "    <tr>\n",
       "      <th>24</th>\n",
       "      <td>Adelie</td>\n",
       "      <td>Biscoe</td>\n",
       "      <td>38.80000</td>\n",
       "      <td>17.20000</td>\n",
       "      <td>180.000000</td>\n",
       "      <td>3800.000000</td>\n",
       "      <td>MALE</td>\n",
       "      <td>3.800000</td>\n",
       "    </tr>\n",
       "    <tr>\n",
       "      <th>...</th>\n",
       "      <td>...</td>\n",
       "      <td>...</td>\n",
       "      <td>...</td>\n",
       "      <td>...</td>\n",
       "      <td>...</td>\n",
       "      <td>...</td>\n",
       "      <td>...</td>\n",
       "      <td>...</td>\n",
       "    </tr>\n",
       "    <tr>\n",
       "      <th>339</th>\n",
       "      <td>Gentoo</td>\n",
       "      <td>Biscoe</td>\n",
       "      <td>43.92193</td>\n",
       "      <td>17.15117</td>\n",
       "      <td>200.915205</td>\n",
       "      <td>4201.754386</td>\n",
       "      <td>MALE</td>\n",
       "      <td>4.202047</td>\n",
       "    </tr>\n",
       "    <tr>\n",
       "      <th>340</th>\n",
       "      <td>Gentoo</td>\n",
       "      <td>Biscoe</td>\n",
       "      <td>46.80000</td>\n",
       "      <td>14.30000</td>\n",
       "      <td>215.000000</td>\n",
       "      <td>4850.000000</td>\n",
       "      <td>FEMALE</td>\n",
       "      <td>4.800000</td>\n",
       "    </tr>\n",
       "    <tr>\n",
       "      <th>341</th>\n",
       "      <td>Gentoo</td>\n",
       "      <td>Biscoe</td>\n",
       "      <td>50.40000</td>\n",
       "      <td>15.70000</td>\n",
       "      <td>222.000000</td>\n",
       "      <td>5750.000000</td>\n",
       "      <td>MALE</td>\n",
       "      <td>5.800000</td>\n",
       "    </tr>\n",
       "    <tr>\n",
       "      <th>342</th>\n",
       "      <td>Gentoo</td>\n",
       "      <td>Biscoe</td>\n",
       "      <td>45.20000</td>\n",
       "      <td>14.80000</td>\n",
       "      <td>212.000000</td>\n",
       "      <td>5200.000000</td>\n",
       "      <td>FEMALE</td>\n",
       "      <td>5.200000</td>\n",
       "    </tr>\n",
       "    <tr>\n",
       "      <th>343</th>\n",
       "      <td>Gentoo</td>\n",
       "      <td>Biscoe</td>\n",
       "      <td>49.90000</td>\n",
       "      <td>16.10000</td>\n",
       "      <td>213.000000</td>\n",
       "      <td>5400.000000</td>\n",
       "      <td>MALE</td>\n",
       "      <td>5.400000</td>\n",
       "    </tr>\n",
       "  </tbody>\n",
       "</table>\n",
       "<p>168 rows × 8 columns</p>\n",
       "</div>"
      ],
      "text/plain": [
       "    species  island  bill_length_mm  bill_depth_mm  flipper_length_mm  \\\n",
       "20   Adelie  Biscoe        37.80000       18.30000         174.000000   \n",
       "21   Adelie  Biscoe        37.70000       18.70000         180.000000   \n",
       "22   Adelie  Biscoe        35.90000       19.20000         189.000000   \n",
       "23   Adelie  Biscoe        38.20000       18.10000         185.000000   \n",
       "24   Adelie  Biscoe        38.80000       17.20000         180.000000   \n",
       "..      ...     ...             ...            ...                ...   \n",
       "339  Gentoo  Biscoe        43.92193       17.15117         200.915205   \n",
       "340  Gentoo  Biscoe        46.80000       14.30000         215.000000   \n",
       "341  Gentoo  Biscoe        50.40000       15.70000         222.000000   \n",
       "342  Gentoo  Biscoe        45.20000       14.80000         212.000000   \n",
       "343  Gentoo  Biscoe        49.90000       16.10000         213.000000   \n",
       "\n",
       "     body_mass_g     sex  weight_kg  \n",
       "20   3400.000000  FEMALE   3.400000  \n",
       "21   3600.000000    MALE   3.600000  \n",
       "22   3800.000000  FEMALE   3.800000  \n",
       "23   3950.000000    MALE   4.000000  \n",
       "24   3800.000000    MALE   3.800000  \n",
       "..           ...     ...        ...  \n",
       "339  4201.754386    MALE   4.202047  \n",
       "340  4850.000000  FEMALE   4.800000  \n",
       "341  5750.000000    MALE   5.800000  \n",
       "342  5200.000000  FEMALE   5.200000  \n",
       "343  5400.000000    MALE   5.400000  \n",
       "\n",
       "[168 rows x 8 columns]"
      ]
     },
     "execution_count": 45,
     "metadata": {},
     "output_type": "execute_result"
    }
   ],
   "source": [
    "birdy[birdy['island'] == 'Biscoe']"
   ]
  },
  {
   "cell_type": "markdown",
   "id": "f5dd268f-a0cf-4e3a-bbb3-7978a8e8796c",
   "metadata": {},
   "source": [
    "<h1>ADELIE ON BISCOE ISLAND</h1>"
   ]
  },
  {
   "cell_type": "code",
   "execution_count": 46,
   "id": "cff794ad-6cc9-431a-acb1-17a949093429",
   "metadata": {},
   "outputs": [
    {
     "name": "stdout",
     "output_type": "stream",
     "text": [
      "<class 'pandas.core.frame.DataFrame'>\n",
      "Index: 44 entries, 20 to 115\n",
      "Data columns (total 8 columns):\n",
      " #   Column             Non-Null Count  Dtype   \n",
      "---  ------             --------------  -----   \n",
      " 0   species            44 non-null     category\n",
      " 1   island             44 non-null     category\n",
      " 2   bill_length_mm     44 non-null     float64 \n",
      " 3   bill_depth_mm      44 non-null     float64 \n",
      " 4   flipper_length_mm  44 non-null     float64 \n",
      " 5   body_mass_g        44 non-null     float64 \n",
      " 6   sex                44 non-null     category\n",
      " 7   weight_kg          44 non-null     float64 \n",
      "dtypes: category(3), float64(5)\n",
      "memory usage: 2.6 KB\n"
     ]
    }
   ],
   "source": [
    "adelie = birdy[(birdy['species'] == 'Adelie') & (birdy['island'] == 'Biscoe')].info()"
   ]
  },
  {
   "cell_type": "code",
   "execution_count": 47,
   "id": "91572984-0eab-4b71-8da8-b5bf6166773b",
   "metadata": {},
   "outputs": [],
   "source": [
    "adelie = birdy[(birdy['species'] == 'Adelie') & (birdy['island'] == 'Biscoe')]"
   ]
  },
  {
   "cell_type": "code",
   "execution_count": 48,
   "id": "6ef536cf-f0c5-41cd-9644-553140bd4584",
   "metadata": {},
   "outputs": [
    {
     "data": {
      "text/plain": [
       "3.7"
      ]
     },
     "execution_count": 48,
     "metadata": {},
     "output_type": "execute_result"
    }
   ],
   "source": [
    "np.round(adelie['weight_kg'].mean(),1)"
   ]
  },
  {
   "cell_type": "code",
   "execution_count": 49,
   "id": "1d32e7af-257e-49bf-ab67-9630f12cfc52",
   "metadata": {},
   "outputs": [
    {
     "name": "stdout",
     "output_type": "stream",
     "text": [
      "<class 'pandas.core.frame.DataFrame'>\n",
      "Index: 56 entries, 30 to 151\n",
      "Data columns (total 8 columns):\n",
      " #   Column             Non-Null Count  Dtype   \n",
      "---  ------             --------------  -----   \n",
      " 0   species            56 non-null     category\n",
      " 1   island             56 non-null     category\n",
      " 2   bill_length_mm     56 non-null     float64 \n",
      " 3   bill_depth_mm      56 non-null     float64 \n",
      " 4   flipper_length_mm  56 non-null     float64 \n",
      " 5   body_mass_g        56 non-null     float64 \n",
      " 6   sex                56 non-null     category\n",
      " 7   weight_kg          56 non-null     float64 \n",
      "dtypes: category(3), float64(5)\n",
      "memory usage: 3.2 KB\n"
     ]
    }
   ],
   "source": [
    "adelie = birdy[(birdy['species'] == 'Adelie') & (birdy['island'] == 'Dream')].info()"
   ]
  },
  {
   "cell_type": "code",
   "execution_count": 50,
   "id": "60931c1e-cf6c-4588-856b-f3d5e63f8d76",
   "metadata": {},
   "outputs": [
    {
     "name": "stdout",
     "output_type": "stream",
     "text": [
      "<class 'pandas.core.frame.DataFrame'>\n",
      "Index: 0 entries\n",
      "Data columns (total 8 columns):\n",
      " #   Column             Non-Null Count  Dtype   \n",
      "---  ------             --------------  -----   \n",
      " 0   species            0 non-null      category\n",
      " 1   island             0 non-null      category\n",
      " 2   bill_length_mm     0 non-null      float64 \n",
      " 3   bill_depth_mm      0 non-null      float64 \n",
      " 4   flipper_length_mm  0 non-null      float64 \n",
      " 5   body_mass_g        0 non-null      float64 \n",
      " 6   sex                0 non-null      category\n",
      " 7   weight_kg          0 non-null      float64 \n",
      "dtypes: category(3), float64(5)\n",
      "memory usage: 388.0 bytes\n"
     ]
    }
   ],
   "source": [
    "adelie = birdy[(birdy['species'] == 'Adelie') & (birdy['island'] == 'Torgesen')].info()"
   ]
  },
  {
   "cell_type": "code",
   "execution_count": 51,
   "id": "7c866eb6-8c7b-4c64-85cf-d46357a7abad",
   "metadata": {},
   "outputs": [
    {
     "data": {
      "text/plain": [
       "species\n",
       "Adelie       152\n",
       "Gentoo       124\n",
       "Chinstrap     68\n",
       "Name: count, dtype: int64"
      ]
     },
     "execution_count": 51,
     "metadata": {},
     "output_type": "execute_result"
    }
   ],
   "source": [
    "birdy['species'].value_counts()"
   ]
  },
  {
   "cell_type": "code",
   "execution_count": 52,
   "id": "23a0dedb-137e-4989-870b-7c8bfb82db2a",
   "metadata": {},
   "outputs": [
    {
     "data": {
      "text/plain": [
       "152"
      ]
     },
     "execution_count": 52,
     "metadata": {},
     "output_type": "execute_result"
    }
   ],
   "source": [
    "56+52+44"
   ]
  },
  {
   "cell_type": "markdown",
   "id": "eb444a54-9d14-4045-9d3c-dabadb5825b2",
   "metadata": {},
   "source": [
    "<h1>Gentoo Species</h1>"
   ]
  },
  {
   "cell_type": "code",
   "execution_count": 53,
   "id": "11c4c199-5353-4d35-b9bb-1bf7a4d387fa",
   "metadata": {},
   "outputs": [
    {
     "data": {
      "text/plain": [
       "species              124\n",
       "island               124\n",
       "bill_length_mm       124\n",
       "bill_depth_mm        124\n",
       "flipper_length_mm    124\n",
       "body_mass_g          124\n",
       "sex                  124\n",
       "weight_kg            124\n",
       "dtype: int64"
      ]
     },
     "execution_count": 53,
     "metadata": {},
     "output_type": "execute_result"
    }
   ],
   "source": [
    "#birdy['species'] == 'Gentoo'\n",
    "#birdy['species'] == 'Dream'\n",
    "birdy[birdy['species'] == 'Gentoo'].count()"
   ]
  },
  {
   "cell_type": "code",
   "execution_count": 54,
   "id": "354b8868-6cff-4fc0-98a6-d6c3baaa9f4a",
   "metadata": {},
   "outputs": [
    {
     "data": {
      "text/plain": [
       "island\n",
       "Biscoe       168\n",
       "Dream        124\n",
       "Torgersen     52\n",
       "Name: count, dtype: int64"
      ]
     },
     "execution_count": 54,
     "metadata": {},
     "output_type": "execute_result"
    }
   ],
   "source": [
    "birdy['island'].value_counts()"
   ]
  },
  {
   "cell_type": "code",
   "execution_count": 55,
   "id": "b734e895-9dec-440c-a350-640c8797cfe3",
   "metadata": {},
   "outputs": [],
   "source": [
    "#birdy[birdy['island'] == 'Biscoe'].count()\n",
    "#birdy[(birdy['species'] == 'Gentoo') & (birdy['island'] == 'Biscoe')].count()\n",
    "#birdy[(birdy['species'] == 'Gentoo') & (birdy['island'] == 'Torgesen')].count()\n",
    "\n",
    "gentoo = birdy[(birdy['species'] == 'Gentoo') & (birdy['island'] == 'Biscoe')]"
   ]
  },
  {
   "cell_type": "code",
   "execution_count": 56,
   "id": "74de9493-5c3a-4dda-9c7c-7c248d3672fc",
   "metadata": {},
   "outputs": [
    {
     "data": {
      "text/plain": [
       "5.1"
      ]
     },
     "execution_count": 56,
     "metadata": {},
     "output_type": "execute_result"
    }
   ],
   "source": [
    "#gentoo['weight_kg'].mean()\n",
    "np.round(gentoo['weight_kg'].mean(),1)"
   ]
  },
  {
   "cell_type": "markdown",
   "id": "c8c96504-37ba-499e-8353-74c4712a76f8",
   "metadata": {},
   "source": [
    "<h1>INSIGHT 1</h1>\n",
    "<h3>Gentoo Penguins lives exclusively on the Biscoe Island</h3>"
   ]
  },
  {
   "cell_type": "code",
   "execution_count": 57,
   "id": "7a532880-e520-4d59-8a1d-3c1e627999c6",
   "metadata": {},
   "outputs": [
    {
     "data": {
      "text/html": [
       "<div>\n",
       "<style scoped>\n",
       "    .dataframe tbody tr th:only-of-type {\n",
       "        vertical-align: middle;\n",
       "    }\n",
       "\n",
       "    .dataframe tbody tr th {\n",
       "        vertical-align: top;\n",
       "    }\n",
       "\n",
       "    .dataframe thead th {\n",
       "        text-align: right;\n",
       "    }\n",
       "</style>\n",
       "<table border=\"1\" class=\"dataframe\">\n",
       "  <thead>\n",
       "    <tr style=\"text-align: right;\">\n",
       "      <th></th>\n",
       "      <th>species</th>\n",
       "      <th>island</th>\n",
       "      <th>bill_length_mm</th>\n",
       "      <th>bill_depth_mm</th>\n",
       "      <th>flipper_length_mm</th>\n",
       "      <th>body_mass_g</th>\n",
       "      <th>sex</th>\n",
       "      <th>weight_kg</th>\n",
       "    </tr>\n",
       "  </thead>\n",
       "  <tbody>\n",
       "    <tr>\n",
       "      <th>220</th>\n",
       "      <td>Gentoo</td>\n",
       "      <td>Biscoe</td>\n",
       "      <td>46.10000</td>\n",
       "      <td>13.20000</td>\n",
       "      <td>211.000000</td>\n",
       "      <td>4500.000000</td>\n",
       "      <td>FEMALE</td>\n",
       "      <td>4.500000</td>\n",
       "    </tr>\n",
       "    <tr>\n",
       "      <th>221</th>\n",
       "      <td>Gentoo</td>\n",
       "      <td>Biscoe</td>\n",
       "      <td>50.00000</td>\n",
       "      <td>16.30000</td>\n",
       "      <td>230.000000</td>\n",
       "      <td>5700.000000</td>\n",
       "      <td>MALE</td>\n",
       "      <td>5.700000</td>\n",
       "    </tr>\n",
       "    <tr>\n",
       "      <th>222</th>\n",
       "      <td>Gentoo</td>\n",
       "      <td>Biscoe</td>\n",
       "      <td>48.70000</td>\n",
       "      <td>14.10000</td>\n",
       "      <td>210.000000</td>\n",
       "      <td>4450.000000</td>\n",
       "      <td>FEMALE</td>\n",
       "      <td>4.400000</td>\n",
       "    </tr>\n",
       "    <tr>\n",
       "      <th>223</th>\n",
       "      <td>Gentoo</td>\n",
       "      <td>Biscoe</td>\n",
       "      <td>50.00000</td>\n",
       "      <td>15.20000</td>\n",
       "      <td>218.000000</td>\n",
       "      <td>5700.000000</td>\n",
       "      <td>MALE</td>\n",
       "      <td>5.700000</td>\n",
       "    </tr>\n",
       "    <tr>\n",
       "      <th>224</th>\n",
       "      <td>Gentoo</td>\n",
       "      <td>Biscoe</td>\n",
       "      <td>47.60000</td>\n",
       "      <td>14.50000</td>\n",
       "      <td>215.000000</td>\n",
       "      <td>5400.000000</td>\n",
       "      <td>MALE</td>\n",
       "      <td>5.400000</td>\n",
       "    </tr>\n",
       "    <tr>\n",
       "      <th>...</th>\n",
       "      <td>...</td>\n",
       "      <td>...</td>\n",
       "      <td>...</td>\n",
       "      <td>...</td>\n",
       "      <td>...</td>\n",
       "      <td>...</td>\n",
       "      <td>...</td>\n",
       "      <td>...</td>\n",
       "    </tr>\n",
       "    <tr>\n",
       "      <th>339</th>\n",
       "      <td>Gentoo</td>\n",
       "      <td>Biscoe</td>\n",
       "      <td>43.92193</td>\n",
       "      <td>17.15117</td>\n",
       "      <td>200.915205</td>\n",
       "      <td>4201.754386</td>\n",
       "      <td>MALE</td>\n",
       "      <td>4.202047</td>\n",
       "    </tr>\n",
       "    <tr>\n",
       "      <th>340</th>\n",
       "      <td>Gentoo</td>\n",
       "      <td>Biscoe</td>\n",
       "      <td>46.80000</td>\n",
       "      <td>14.30000</td>\n",
       "      <td>215.000000</td>\n",
       "      <td>4850.000000</td>\n",
       "      <td>FEMALE</td>\n",
       "      <td>4.800000</td>\n",
       "    </tr>\n",
       "    <tr>\n",
       "      <th>341</th>\n",
       "      <td>Gentoo</td>\n",
       "      <td>Biscoe</td>\n",
       "      <td>50.40000</td>\n",
       "      <td>15.70000</td>\n",
       "      <td>222.000000</td>\n",
       "      <td>5750.000000</td>\n",
       "      <td>MALE</td>\n",
       "      <td>5.800000</td>\n",
       "    </tr>\n",
       "    <tr>\n",
       "      <th>342</th>\n",
       "      <td>Gentoo</td>\n",
       "      <td>Biscoe</td>\n",
       "      <td>45.20000</td>\n",
       "      <td>14.80000</td>\n",
       "      <td>212.000000</td>\n",
       "      <td>5200.000000</td>\n",
       "      <td>FEMALE</td>\n",
       "      <td>5.200000</td>\n",
       "    </tr>\n",
       "    <tr>\n",
       "      <th>343</th>\n",
       "      <td>Gentoo</td>\n",
       "      <td>Biscoe</td>\n",
       "      <td>49.90000</td>\n",
       "      <td>16.10000</td>\n",
       "      <td>213.000000</td>\n",
       "      <td>5400.000000</td>\n",
       "      <td>MALE</td>\n",
       "      <td>5.400000</td>\n",
       "    </tr>\n",
       "  </tbody>\n",
       "</table>\n",
       "<p>124 rows × 8 columns</p>\n",
       "</div>"
      ],
      "text/plain": [
       "    species  island  bill_length_mm  bill_depth_mm  flipper_length_mm  \\\n",
       "220  Gentoo  Biscoe        46.10000       13.20000         211.000000   \n",
       "221  Gentoo  Biscoe        50.00000       16.30000         230.000000   \n",
       "222  Gentoo  Biscoe        48.70000       14.10000         210.000000   \n",
       "223  Gentoo  Biscoe        50.00000       15.20000         218.000000   \n",
       "224  Gentoo  Biscoe        47.60000       14.50000         215.000000   \n",
       "..      ...     ...             ...            ...                ...   \n",
       "339  Gentoo  Biscoe        43.92193       17.15117         200.915205   \n",
       "340  Gentoo  Biscoe        46.80000       14.30000         215.000000   \n",
       "341  Gentoo  Biscoe        50.40000       15.70000         222.000000   \n",
       "342  Gentoo  Biscoe        45.20000       14.80000         212.000000   \n",
       "343  Gentoo  Biscoe        49.90000       16.10000         213.000000   \n",
       "\n",
       "     body_mass_g     sex  weight_kg  \n",
       "220  4500.000000  FEMALE   4.500000  \n",
       "221  5700.000000    MALE   5.700000  \n",
       "222  4450.000000  FEMALE   4.400000  \n",
       "223  5700.000000    MALE   5.700000  \n",
       "224  5400.000000    MALE   5.400000  \n",
       "..           ...     ...        ...  \n",
       "339  4201.754386    MALE   4.202047  \n",
       "340  4850.000000  FEMALE   4.800000  \n",
       "341  5750.000000    MALE   5.800000  \n",
       "342  5200.000000  FEMALE   5.200000  \n",
       "343  5400.000000    MALE   5.400000  \n",
       "\n",
       "[124 rows x 8 columns]"
      ]
     },
     "execution_count": 57,
     "metadata": {},
     "output_type": "execute_result"
    }
   ],
   "source": [
    "gentoo = birdy[(birdy['species'] == 'Gentoo') & (birdy['island'] == 'Biscoe')]\n",
    "gentoo"
   ]
  },
  {
   "cell_type": "markdown",
   "id": "f577c8b0-7938-4ef3-8b58-4e0674750cee",
   "metadata": {},
   "source": [
    "<h1>INSIGHT 2</h1>\n",
    "<h3>Chinstrap Penguins lives exclusively on the Dream Island</h3>"
   ]
  },
  {
   "cell_type": "code",
   "execution_count": 58,
   "id": "7db8ff1f-d6ab-4a05-8756-ade8d0585982",
   "metadata": {},
   "outputs": [
    {
     "data": {
      "text/html": [
       "<div>\n",
       "<style scoped>\n",
       "    .dataframe tbody tr th:only-of-type {\n",
       "        vertical-align: middle;\n",
       "    }\n",
       "\n",
       "    .dataframe tbody tr th {\n",
       "        vertical-align: top;\n",
       "    }\n",
       "\n",
       "    .dataframe thead th {\n",
       "        text-align: right;\n",
       "    }\n",
       "</style>\n",
       "<table border=\"1\" class=\"dataframe\">\n",
       "  <thead>\n",
       "    <tr style=\"text-align: right;\">\n",
       "      <th></th>\n",
       "      <th>species</th>\n",
       "      <th>island</th>\n",
       "      <th>bill_length_mm</th>\n",
       "      <th>bill_depth_mm</th>\n",
       "      <th>flipper_length_mm</th>\n",
       "      <th>body_mass_g</th>\n",
       "      <th>sex</th>\n",
       "      <th>weight_kg</th>\n",
       "    </tr>\n",
       "  </thead>\n",
       "  <tbody>\n",
       "    <tr>\n",
       "      <th>152</th>\n",
       "      <td>Chinstrap</td>\n",
       "      <td>Dream</td>\n",
       "      <td>46.5</td>\n",
       "      <td>17.9</td>\n",
       "      <td>192.0</td>\n",
       "      <td>3500.0</td>\n",
       "      <td>FEMALE</td>\n",
       "      <td>3.5</td>\n",
       "    </tr>\n",
       "    <tr>\n",
       "      <th>153</th>\n",
       "      <td>Chinstrap</td>\n",
       "      <td>Dream</td>\n",
       "      <td>50.0</td>\n",
       "      <td>19.5</td>\n",
       "      <td>196.0</td>\n",
       "      <td>3900.0</td>\n",
       "      <td>MALE</td>\n",
       "      <td>3.9</td>\n",
       "    </tr>\n",
       "    <tr>\n",
       "      <th>154</th>\n",
       "      <td>Chinstrap</td>\n",
       "      <td>Dream</td>\n",
       "      <td>51.3</td>\n",
       "      <td>19.2</td>\n",
       "      <td>193.0</td>\n",
       "      <td>3650.0</td>\n",
       "      <td>MALE</td>\n",
       "      <td>3.6</td>\n",
       "    </tr>\n",
       "    <tr>\n",
       "      <th>155</th>\n",
       "      <td>Chinstrap</td>\n",
       "      <td>Dream</td>\n",
       "      <td>45.4</td>\n",
       "      <td>18.7</td>\n",
       "      <td>188.0</td>\n",
       "      <td>3525.0</td>\n",
       "      <td>FEMALE</td>\n",
       "      <td>3.5</td>\n",
       "    </tr>\n",
       "    <tr>\n",
       "      <th>156</th>\n",
       "      <td>Chinstrap</td>\n",
       "      <td>Dream</td>\n",
       "      <td>52.7</td>\n",
       "      <td>19.8</td>\n",
       "      <td>197.0</td>\n",
       "      <td>3725.0</td>\n",
       "      <td>MALE</td>\n",
       "      <td>3.7</td>\n",
       "    </tr>\n",
       "    <tr>\n",
       "      <th>...</th>\n",
       "      <td>...</td>\n",
       "      <td>...</td>\n",
       "      <td>...</td>\n",
       "      <td>...</td>\n",
       "      <td>...</td>\n",
       "      <td>...</td>\n",
       "      <td>...</td>\n",
       "      <td>...</td>\n",
       "    </tr>\n",
       "    <tr>\n",
       "      <th>215</th>\n",
       "      <td>Chinstrap</td>\n",
       "      <td>Dream</td>\n",
       "      <td>55.8</td>\n",
       "      <td>19.8</td>\n",
       "      <td>207.0</td>\n",
       "      <td>4000.0</td>\n",
       "      <td>MALE</td>\n",
       "      <td>4.0</td>\n",
       "    </tr>\n",
       "    <tr>\n",
       "      <th>216</th>\n",
       "      <td>Chinstrap</td>\n",
       "      <td>Dream</td>\n",
       "      <td>43.5</td>\n",
       "      <td>18.1</td>\n",
       "      <td>202.0</td>\n",
       "      <td>3400.0</td>\n",
       "      <td>FEMALE</td>\n",
       "      <td>3.4</td>\n",
       "    </tr>\n",
       "    <tr>\n",
       "      <th>217</th>\n",
       "      <td>Chinstrap</td>\n",
       "      <td>Dream</td>\n",
       "      <td>49.6</td>\n",
       "      <td>18.2</td>\n",
       "      <td>193.0</td>\n",
       "      <td>3775.0</td>\n",
       "      <td>MALE</td>\n",
       "      <td>3.8</td>\n",
       "    </tr>\n",
       "    <tr>\n",
       "      <th>218</th>\n",
       "      <td>Chinstrap</td>\n",
       "      <td>Dream</td>\n",
       "      <td>50.8</td>\n",
       "      <td>19.0</td>\n",
       "      <td>210.0</td>\n",
       "      <td>4100.0</td>\n",
       "      <td>MALE</td>\n",
       "      <td>4.1</td>\n",
       "    </tr>\n",
       "    <tr>\n",
       "      <th>219</th>\n",
       "      <td>Chinstrap</td>\n",
       "      <td>Dream</td>\n",
       "      <td>50.2</td>\n",
       "      <td>18.7</td>\n",
       "      <td>198.0</td>\n",
       "      <td>3775.0</td>\n",
       "      <td>FEMALE</td>\n",
       "      <td>3.8</td>\n",
       "    </tr>\n",
       "  </tbody>\n",
       "</table>\n",
       "<p>68 rows × 8 columns</p>\n",
       "</div>"
      ],
      "text/plain": [
       "       species island  bill_length_mm  bill_depth_mm  flipper_length_mm  \\\n",
       "152  Chinstrap  Dream            46.5           17.9              192.0   \n",
       "153  Chinstrap  Dream            50.0           19.5              196.0   \n",
       "154  Chinstrap  Dream            51.3           19.2              193.0   \n",
       "155  Chinstrap  Dream            45.4           18.7              188.0   \n",
       "156  Chinstrap  Dream            52.7           19.8              197.0   \n",
       "..         ...    ...             ...            ...                ...   \n",
       "215  Chinstrap  Dream            55.8           19.8              207.0   \n",
       "216  Chinstrap  Dream            43.5           18.1              202.0   \n",
       "217  Chinstrap  Dream            49.6           18.2              193.0   \n",
       "218  Chinstrap  Dream            50.8           19.0              210.0   \n",
       "219  Chinstrap  Dream            50.2           18.7              198.0   \n",
       "\n",
       "     body_mass_g     sex  weight_kg  \n",
       "152       3500.0  FEMALE        3.5  \n",
       "153       3900.0    MALE        3.9  \n",
       "154       3650.0    MALE        3.6  \n",
       "155       3525.0  FEMALE        3.5  \n",
       "156       3725.0    MALE        3.7  \n",
       "..           ...     ...        ...  \n",
       "215       4000.0    MALE        4.0  \n",
       "216       3400.0  FEMALE        3.4  \n",
       "217       3775.0    MALE        3.8  \n",
       "218       4100.0    MALE        4.1  \n",
       "219       3775.0  FEMALE        3.8  \n",
       "\n",
       "[68 rows x 8 columns]"
      ]
     },
     "execution_count": 58,
     "metadata": {},
     "output_type": "execute_result"
    }
   ],
   "source": [
    "chins = birdy[(birdy['species'] == 'Chinstrap') & (birdy['island'] == 'Dream')]\n",
    "chins"
   ]
  },
  {
   "cell_type": "markdown",
   "id": "a3856057-04be-4fc9-acaf-b6a3778f32be",
   "metadata": {},
   "source": [
    "<h1>INSIGHT 3</h1>\n",
    "<h3>Adelie Penguins lives exclusively on the islands: Biscoe, Dream, Torgesen Island</h3>"
   ]
  },
  {
   "cell_type": "code",
   "execution_count": 59,
   "id": "b0d742c1-98c2-4ed7-a8fb-e5936026f3fd",
   "metadata": {},
   "outputs": [
    {
     "data": {
      "text/html": [
       "<div>\n",
       "<style scoped>\n",
       "    .dataframe tbody tr th:only-of-type {\n",
       "        vertical-align: middle;\n",
       "    }\n",
       "\n",
       "    .dataframe tbody tr th {\n",
       "        vertical-align: top;\n",
       "    }\n",
       "\n",
       "    .dataframe thead th {\n",
       "        text-align: right;\n",
       "    }\n",
       "</style>\n",
       "<table border=\"1\" class=\"dataframe\">\n",
       "  <thead>\n",
       "    <tr style=\"text-align: right;\">\n",
       "      <th></th>\n",
       "      <th>species</th>\n",
       "      <th>island</th>\n",
       "      <th>bill_length_mm</th>\n",
       "      <th>bill_depth_mm</th>\n",
       "      <th>flipper_length_mm</th>\n",
       "      <th>body_mass_g</th>\n",
       "      <th>sex</th>\n",
       "      <th>weight_kg</th>\n",
       "    </tr>\n",
       "  </thead>\n",
       "  <tbody>\n",
       "    <tr>\n",
       "      <th>0</th>\n",
       "      <td>Adelie</td>\n",
       "      <td>Torgersen</td>\n",
       "      <td>39.10000</td>\n",
       "      <td>18.70000</td>\n",
       "      <td>181.000000</td>\n",
       "      <td>3750.000000</td>\n",
       "      <td>MALE</td>\n",
       "      <td>3.800000</td>\n",
       "    </tr>\n",
       "    <tr>\n",
       "      <th>1</th>\n",
       "      <td>Adelie</td>\n",
       "      <td>Torgersen</td>\n",
       "      <td>39.50000</td>\n",
       "      <td>17.40000</td>\n",
       "      <td>186.000000</td>\n",
       "      <td>3800.000000</td>\n",
       "      <td>FEMALE</td>\n",
       "      <td>3.800000</td>\n",
       "    </tr>\n",
       "    <tr>\n",
       "      <th>2</th>\n",
       "      <td>Adelie</td>\n",
       "      <td>Torgersen</td>\n",
       "      <td>40.30000</td>\n",
       "      <td>18.00000</td>\n",
       "      <td>195.000000</td>\n",
       "      <td>3250.000000</td>\n",
       "      <td>FEMALE</td>\n",
       "      <td>3.200000</td>\n",
       "    </tr>\n",
       "    <tr>\n",
       "      <th>3</th>\n",
       "      <td>Adelie</td>\n",
       "      <td>Torgersen</td>\n",
       "      <td>43.92193</td>\n",
       "      <td>17.15117</td>\n",
       "      <td>200.915205</td>\n",
       "      <td>4201.754386</td>\n",
       "      <td>MALE</td>\n",
       "      <td>4.202047</td>\n",
       "    </tr>\n",
       "    <tr>\n",
       "      <th>4</th>\n",
       "      <td>Adelie</td>\n",
       "      <td>Torgersen</td>\n",
       "      <td>36.70000</td>\n",
       "      <td>19.30000</td>\n",
       "      <td>193.000000</td>\n",
       "      <td>3450.000000</td>\n",
       "      <td>FEMALE</td>\n",
       "      <td>3.400000</td>\n",
       "    </tr>\n",
       "    <tr>\n",
       "      <th>...</th>\n",
       "      <td>...</td>\n",
       "      <td>...</td>\n",
       "      <td>...</td>\n",
       "      <td>...</td>\n",
       "      <td>...</td>\n",
       "      <td>...</td>\n",
       "      <td>...</td>\n",
       "      <td>...</td>\n",
       "    </tr>\n",
       "    <tr>\n",
       "      <th>147</th>\n",
       "      <td>Adelie</td>\n",
       "      <td>Dream</td>\n",
       "      <td>36.60000</td>\n",
       "      <td>18.40000</td>\n",
       "      <td>184.000000</td>\n",
       "      <td>3475.000000</td>\n",
       "      <td>FEMALE</td>\n",
       "      <td>3.500000</td>\n",
       "    </tr>\n",
       "    <tr>\n",
       "      <th>148</th>\n",
       "      <td>Adelie</td>\n",
       "      <td>Dream</td>\n",
       "      <td>36.00000</td>\n",
       "      <td>17.80000</td>\n",
       "      <td>195.000000</td>\n",
       "      <td>3450.000000</td>\n",
       "      <td>FEMALE</td>\n",
       "      <td>3.400000</td>\n",
       "    </tr>\n",
       "    <tr>\n",
       "      <th>149</th>\n",
       "      <td>Adelie</td>\n",
       "      <td>Dream</td>\n",
       "      <td>37.80000</td>\n",
       "      <td>18.10000</td>\n",
       "      <td>193.000000</td>\n",
       "      <td>3750.000000</td>\n",
       "      <td>MALE</td>\n",
       "      <td>3.800000</td>\n",
       "    </tr>\n",
       "    <tr>\n",
       "      <th>150</th>\n",
       "      <td>Adelie</td>\n",
       "      <td>Dream</td>\n",
       "      <td>36.00000</td>\n",
       "      <td>17.10000</td>\n",
       "      <td>187.000000</td>\n",
       "      <td>3700.000000</td>\n",
       "      <td>FEMALE</td>\n",
       "      <td>3.700000</td>\n",
       "    </tr>\n",
       "    <tr>\n",
       "      <th>151</th>\n",
       "      <td>Adelie</td>\n",
       "      <td>Dream</td>\n",
       "      <td>41.50000</td>\n",
       "      <td>18.50000</td>\n",
       "      <td>201.000000</td>\n",
       "      <td>4000.000000</td>\n",
       "      <td>MALE</td>\n",
       "      <td>4.000000</td>\n",
       "    </tr>\n",
       "  </tbody>\n",
       "</table>\n",
       "<p>152 rows × 8 columns</p>\n",
       "</div>"
      ],
      "text/plain": [
       "    species     island  bill_length_mm  bill_depth_mm  flipper_length_mm  \\\n",
       "0    Adelie  Torgersen        39.10000       18.70000         181.000000   \n",
       "1    Adelie  Torgersen        39.50000       17.40000         186.000000   \n",
       "2    Adelie  Torgersen        40.30000       18.00000         195.000000   \n",
       "3    Adelie  Torgersen        43.92193       17.15117         200.915205   \n",
       "4    Adelie  Torgersen        36.70000       19.30000         193.000000   \n",
       "..      ...        ...             ...            ...                ...   \n",
       "147  Adelie      Dream        36.60000       18.40000         184.000000   \n",
       "148  Adelie      Dream        36.00000       17.80000         195.000000   \n",
       "149  Adelie      Dream        37.80000       18.10000         193.000000   \n",
       "150  Adelie      Dream        36.00000       17.10000         187.000000   \n",
       "151  Adelie      Dream        41.50000       18.50000         201.000000   \n",
       "\n",
       "     body_mass_g     sex  weight_kg  \n",
       "0    3750.000000    MALE   3.800000  \n",
       "1    3800.000000  FEMALE   3.800000  \n",
       "2    3250.000000  FEMALE   3.200000  \n",
       "3    4201.754386    MALE   4.202047  \n",
       "4    3450.000000  FEMALE   3.400000  \n",
       "..           ...     ...        ...  \n",
       "147  3475.000000  FEMALE   3.500000  \n",
       "148  3450.000000  FEMALE   3.400000  \n",
       "149  3750.000000    MALE   3.800000  \n",
       "150  3700.000000  FEMALE   3.700000  \n",
       "151  4000.000000    MALE   4.000000  \n",
       "\n",
       "[152 rows x 8 columns]"
      ]
     },
     "execution_count": 59,
     "metadata": {},
     "output_type": "execute_result"
    }
   ],
   "source": [
    "adelie = birdy[(birdy['species'] == 'Adelie') & (birdy['island'].isin(['Biscoe', 'Dream', 'Torgersen']))]\n",
    "adelie"
   ]
  },
  {
   "cell_type": "markdown",
   "id": "8efcca95-04ac-4035-ad41-9f660f32e736",
   "metadata": {},
   "source": [
    "<h1>INSIGHT 4</h1>\n",
    "<h3>Gentoo species has an average weight of 5.1 kilograms</h3>"
   ]
  },
  {
   "cell_type": "code",
   "execution_count": 60,
   "id": "dd4a583f-d300-4391-857a-9cbbe7cd0b62",
   "metadata": {},
   "outputs": [
    {
     "data": {
      "text/plain": [
       "5.1"
      ]
     },
     "execution_count": 60,
     "metadata": {},
     "output_type": "execute_result"
    }
   ],
   "source": [
    "np.round(gentoo['weight_kg'].mean(),1)"
   ]
  },
  {
   "cell_type": "markdown",
   "id": "a1bf2e48-5758-4b72-993a-2cb4697cc475",
   "metadata": {},
   "source": [
    "<h1>INSIGHT 4.1</h1>\n",
    "<h3>Adelie species in Biscoe Island has an average weight of 3.7 kilograms</h3>\n",
    "<h3>Adelie species in Dream Island has an average weight of 3.7 kilograms</h3>\n",
    "<h3>Adelie species in Torgesen Island has an average weight of 3.7 kilograms</h3>"
   ]
  },
  {
   "cell_type": "code",
   "execution_count": 61,
   "id": "b14340a2-14cb-4419-bc97-da31cadd9750",
   "metadata": {},
   "outputs": [
    {
     "data": {
      "text/plain": [
       "species    island   \n",
       "Adelie     Biscoe       3.7\n",
       "           Dream        3.7\n",
       "           Torgersen    3.7\n",
       "Chinstrap  Dream        3.7\n",
       "Gentoo     Biscoe       5.1\n",
       "Name: weight_kg, dtype: float64"
      ]
     },
     "execution_count": 61,
     "metadata": {},
     "output_type": "execute_result"
    }
   ],
   "source": [
    "#adelie = birdy[(birdy['species'] == 'Adelie') & (birdy['island'] == 'Biscoe')]\n",
    "#adelie = birdy[(birdy['species'] == 'Adelie') & (birdy['island'] == 'Dream')]\n",
    "#adelie = birdy[(birdy['species'] == 'Adelie') & (birdy['island'] == 'Torgesen')]\n",
    "#adelie['weight_kg'].mean(),1)\n",
    "adelie = birdy.groupby(['species', 'island'], observed=True)['weight_kg'].mean()\n",
    "np.round(adelie,1)"
   ]
  },
  {
   "cell_type": "markdown",
   "id": "c5f730f4-451b-410f-bbc4-af64b4cfb4a6",
   "metadata": {},
   "source": [
    "<h1>INSIGHT 5</h1>\n",
    "<h3>Chinstrap species has an average weight of 3.7 kilograms</h3>"
   ]
  },
  {
   "cell_type": "code",
   "execution_count": 62,
   "id": "77a97e88-9585-4825-88e7-a59b34087e59",
   "metadata": {},
   "outputs": [
    {
     "data": {
      "text/plain": [
       "3.7"
      ]
     },
     "execution_count": 62,
     "metadata": {},
     "output_type": "execute_result"
    }
   ],
   "source": [
    "np.round(chins['weight_kg'].mean(),1)"
   ]
  },
  {
   "cell_type": "markdown",
   "id": "4a81e738-2820-443e-8d64-443235353ed9",
   "metadata": {},
   "source": [
    "<h1>INSIGHT 6</h1>\n",
    "<h3>Adelie species has an average weight of 3.7 kilograms</h3>"
   ]
  },
  {
   "cell_type": "code",
   "execution_count": 63,
   "id": "4d89ec8c-96ff-46dc-a513-87e9c23d68d8",
   "metadata": {},
   "outputs": [],
   "source": [
    "adelie = adelie.reset_index()  # Converts MultiIndex Series back to DataFrame"
   ]
  },
  {
   "cell_type": "code",
   "execution_count": 64,
   "id": "ae633774-a8e4-44a6-ab35-767acc859b11",
   "metadata": {},
   "outputs": [
    {
     "data": {
      "text/plain": [
       "4.0"
      ]
     },
     "execution_count": 64,
     "metadata": {},
     "output_type": "execute_result"
    }
   ],
   "source": [
    "np.round(adelie['weight_kg'].mean(), 1)"
   ]
  },
  {
   "cell_type": "markdown",
   "id": "aa1b6da0-16c0-4808-a00b-46a63aaa5cda",
   "metadata": {},
   "source": [
    "<h1>INSIGHT 7</h1>\n",
    "<h3>Adelie species has an average weight of 3.7 kilograms</h3>\n",
    "<h3>Chinstrap species has an average weight of 3.7 kilograms</h3>\n",
    "<h3>Gentoo species has an average weight of 3.7 kilograms</h3>\n",
    "<h4>Groupby</h4>"
   ]
  },
  {
   "cell_type": "code",
   "execution_count": 65,
   "id": "5fb3cfc3-b5b7-4b2e-9c01-097a99d7e8f9",
   "metadata": {},
   "outputs": [
    {
     "name": "stderr",
     "output_type": "stream",
     "text": [
      "C:\\Users\\User\\AppData\\Local\\Temp\\ipykernel_7692\\491786776.py:1: FutureWarning: The default of observed=False is deprecated and will be changed to True in a future version of pandas. Pass observed=False to retain current behavior or observed=True to adopt the future default and silence this warning.\n",
      "  c = birdy.groupby('species')['weight_kg'].mean()\n"
     ]
    },
    {
     "data": {
      "text/plain": [
       "species\n",
       "Adelie       3.7\n",
       "Chinstrap    3.7\n",
       "Gentoo       5.1\n",
       "Name: weight_kg, dtype: float64"
      ]
     },
     "execution_count": 65,
     "metadata": {},
     "output_type": "execute_result"
    }
   ],
   "source": [
    "c = birdy.groupby('species')['weight_kg'].mean()\n",
    "np.round(c, 1)"
   ]
  },
  {
   "cell_type": "markdown",
   "id": "2d467c33-cd37-4447-a442-4f6e1a06fc65",
   "metadata": {},
   "source": [
    "<h1>INSIGHT 8</h1>\n",
    "<h3>How many male/female penguin species live on the 3 different islands</h3>\n",
    "<h6>count, size, mean, median, var, sum</h6>"
   ]
  },
  {
   "cell_type": "code",
   "execution_count": 66,
   "id": "e0935035-4f84-4c43-9906-9202a01ba895",
   "metadata": {},
   "outputs": [
    {
     "name": "stderr",
     "output_type": "stream",
     "text": [
      "C:\\Users\\User\\AppData\\Local\\Temp\\ipykernel_7692\\2074019352.py:1: FutureWarning: The default of observed=False is deprecated and will be changed to True in a future version of pandas. Pass observed=False to retain current behavior or observed=True to adopt the future default and silence this warning.\n",
      "  pengwins = birdy.groupby(['species', 'island', 'sex']).count()\n"
     ]
    },
    {
     "data": {
      "text/html": [
       "<div>\n",
       "<style scoped>\n",
       "    .dataframe tbody tr th:only-of-type {\n",
       "        vertical-align: middle;\n",
       "    }\n",
       "\n",
       "    .dataframe tbody tr th {\n",
       "        vertical-align: top;\n",
       "    }\n",
       "\n",
       "    .dataframe thead th {\n",
       "        text-align: right;\n",
       "    }\n",
       "</style>\n",
       "<table border=\"1\" class=\"dataframe\">\n",
       "  <thead>\n",
       "    <tr style=\"text-align: right;\">\n",
       "      <th></th>\n",
       "      <th></th>\n",
       "      <th></th>\n",
       "      <th>bill_length_mm</th>\n",
       "      <th>bill_depth_mm</th>\n",
       "      <th>flipper_length_mm</th>\n",
       "      <th>body_mass_g</th>\n",
       "      <th>weight_kg</th>\n",
       "    </tr>\n",
       "    <tr>\n",
       "      <th>species</th>\n",
       "      <th>island</th>\n",
       "      <th>sex</th>\n",
       "      <th></th>\n",
       "      <th></th>\n",
       "      <th></th>\n",
       "      <th></th>\n",
       "      <th></th>\n",
       "    </tr>\n",
       "  </thead>\n",
       "  <tbody>\n",
       "    <tr>\n",
       "      <th rowspan=\"6\" valign=\"top\">Adelie</th>\n",
       "      <th rowspan=\"2\" valign=\"top\">Biscoe</th>\n",
       "      <th>FEMALE</th>\n",
       "      <td>22</td>\n",
       "      <td>22</td>\n",
       "      <td>22</td>\n",
       "      <td>22</td>\n",
       "      <td>22</td>\n",
       "    </tr>\n",
       "    <tr>\n",
       "      <th>MALE</th>\n",
       "      <td>22</td>\n",
       "      <td>22</td>\n",
       "      <td>22</td>\n",
       "      <td>22</td>\n",
       "      <td>22</td>\n",
       "    </tr>\n",
       "    <tr>\n",
       "      <th rowspan=\"2\" valign=\"top\">Dream</th>\n",
       "      <th>FEMALE</th>\n",
       "      <td>27</td>\n",
       "      <td>27</td>\n",
       "      <td>27</td>\n",
       "      <td>27</td>\n",
       "      <td>27</td>\n",
       "    </tr>\n",
       "    <tr>\n",
       "      <th>MALE</th>\n",
       "      <td>29</td>\n",
       "      <td>29</td>\n",
       "      <td>29</td>\n",
       "      <td>29</td>\n",
       "      <td>29</td>\n",
       "    </tr>\n",
       "    <tr>\n",
       "      <th rowspan=\"2\" valign=\"top\">Torgersen</th>\n",
       "      <th>FEMALE</th>\n",
       "      <td>24</td>\n",
       "      <td>24</td>\n",
       "      <td>24</td>\n",
       "      <td>24</td>\n",
       "      <td>24</td>\n",
       "    </tr>\n",
       "    <tr>\n",
       "      <th>MALE</th>\n",
       "      <td>28</td>\n",
       "      <td>28</td>\n",
       "      <td>28</td>\n",
       "      <td>28</td>\n",
       "      <td>28</td>\n",
       "    </tr>\n",
       "    <tr>\n",
       "      <th rowspan=\"6\" valign=\"top\">Chinstrap</th>\n",
       "      <th rowspan=\"2\" valign=\"top\">Biscoe</th>\n",
       "      <th>FEMALE</th>\n",
       "      <td>0</td>\n",
       "      <td>0</td>\n",
       "      <td>0</td>\n",
       "      <td>0</td>\n",
       "      <td>0</td>\n",
       "    </tr>\n",
       "    <tr>\n",
       "      <th>MALE</th>\n",
       "      <td>0</td>\n",
       "      <td>0</td>\n",
       "      <td>0</td>\n",
       "      <td>0</td>\n",
       "      <td>0</td>\n",
       "    </tr>\n",
       "    <tr>\n",
       "      <th rowspan=\"2\" valign=\"top\">Dream</th>\n",
       "      <th>FEMALE</th>\n",
       "      <td>34</td>\n",
       "      <td>34</td>\n",
       "      <td>34</td>\n",
       "      <td>34</td>\n",
       "      <td>34</td>\n",
       "    </tr>\n",
       "    <tr>\n",
       "      <th>MALE</th>\n",
       "      <td>34</td>\n",
       "      <td>34</td>\n",
       "      <td>34</td>\n",
       "      <td>34</td>\n",
       "      <td>34</td>\n",
       "    </tr>\n",
       "    <tr>\n",
       "      <th rowspan=\"2\" valign=\"top\">Torgersen</th>\n",
       "      <th>FEMALE</th>\n",
       "      <td>0</td>\n",
       "      <td>0</td>\n",
       "      <td>0</td>\n",
       "      <td>0</td>\n",
       "      <td>0</td>\n",
       "    </tr>\n",
       "    <tr>\n",
       "      <th>MALE</th>\n",
       "      <td>0</td>\n",
       "      <td>0</td>\n",
       "      <td>0</td>\n",
       "      <td>0</td>\n",
       "      <td>0</td>\n",
       "    </tr>\n",
       "    <tr>\n",
       "      <th rowspan=\"6\" valign=\"top\">Gentoo</th>\n",
       "      <th rowspan=\"2\" valign=\"top\">Biscoe</th>\n",
       "      <th>FEMALE</th>\n",
       "      <td>58</td>\n",
       "      <td>58</td>\n",
       "      <td>58</td>\n",
       "      <td>58</td>\n",
       "      <td>58</td>\n",
       "    </tr>\n",
       "    <tr>\n",
       "      <th>MALE</th>\n",
       "      <td>66</td>\n",
       "      <td>66</td>\n",
       "      <td>66</td>\n",
       "      <td>66</td>\n",
       "      <td>66</td>\n",
       "    </tr>\n",
       "    <tr>\n",
       "      <th rowspan=\"2\" valign=\"top\">Dream</th>\n",
       "      <th>FEMALE</th>\n",
       "      <td>0</td>\n",
       "      <td>0</td>\n",
       "      <td>0</td>\n",
       "      <td>0</td>\n",
       "      <td>0</td>\n",
       "    </tr>\n",
       "    <tr>\n",
       "      <th>MALE</th>\n",
       "      <td>0</td>\n",
       "      <td>0</td>\n",
       "      <td>0</td>\n",
       "      <td>0</td>\n",
       "      <td>0</td>\n",
       "    </tr>\n",
       "    <tr>\n",
       "      <th rowspan=\"2\" valign=\"top\">Torgersen</th>\n",
       "      <th>FEMALE</th>\n",
       "      <td>0</td>\n",
       "      <td>0</td>\n",
       "      <td>0</td>\n",
       "      <td>0</td>\n",
       "      <td>0</td>\n",
       "    </tr>\n",
       "    <tr>\n",
       "      <th>MALE</th>\n",
       "      <td>0</td>\n",
       "      <td>0</td>\n",
       "      <td>0</td>\n",
       "      <td>0</td>\n",
       "      <td>0</td>\n",
       "    </tr>\n",
       "  </tbody>\n",
       "</table>\n",
       "</div>"
      ],
      "text/plain": [
       "                            bill_length_mm  bill_depth_mm  flipper_length_mm  \\\n",
       "species   island    sex                                                        \n",
       "Adelie    Biscoe    FEMALE              22             22                 22   \n",
       "                    MALE                22             22                 22   \n",
       "          Dream     FEMALE              27             27                 27   \n",
       "                    MALE                29             29                 29   \n",
       "          Torgersen FEMALE              24             24                 24   \n",
       "                    MALE                28             28                 28   \n",
       "Chinstrap Biscoe    FEMALE               0              0                  0   \n",
       "                    MALE                 0              0                  0   \n",
       "          Dream     FEMALE              34             34                 34   \n",
       "                    MALE                34             34                 34   \n",
       "          Torgersen FEMALE               0              0                  0   \n",
       "                    MALE                 0              0                  0   \n",
       "Gentoo    Biscoe    FEMALE              58             58                 58   \n",
       "                    MALE                66             66                 66   \n",
       "          Dream     FEMALE               0              0                  0   \n",
       "                    MALE                 0              0                  0   \n",
       "          Torgersen FEMALE               0              0                  0   \n",
       "                    MALE                 0              0                  0   \n",
       "\n",
       "                            body_mass_g  weight_kg  \n",
       "species   island    sex                             \n",
       "Adelie    Biscoe    FEMALE           22         22  \n",
       "                    MALE             22         22  \n",
       "          Dream     FEMALE           27         27  \n",
       "                    MALE             29         29  \n",
       "          Torgersen FEMALE           24         24  \n",
       "                    MALE             28         28  \n",
       "Chinstrap Biscoe    FEMALE            0          0  \n",
       "                    MALE              0          0  \n",
       "          Dream     FEMALE           34         34  \n",
       "                    MALE             34         34  \n",
       "          Torgersen FEMALE            0          0  \n",
       "                    MALE              0          0  \n",
       "Gentoo    Biscoe    FEMALE           58         58  \n",
       "                    MALE             66         66  \n",
       "          Dream     FEMALE            0          0  \n",
       "                    MALE              0          0  \n",
       "          Torgersen FEMALE            0          0  \n",
       "                    MALE              0          0  "
      ]
     },
     "execution_count": 66,
     "metadata": {},
     "output_type": "execute_result"
    }
   ],
   "source": [
    "pengwins = birdy.groupby(['species', 'island', 'sex']).count()\n",
    "#pengwins = birdy.groupby(['species', 'island', 'sex', 'year')].size()\n",
    "pengwins"
   ]
  },
  {
   "cell_type": "markdown",
   "id": "b6d92d7b-d2cc-45ef-b720-e5cc5c27f6d6",
   "metadata": {},
   "source": [
    "<h1>INSIGHT 9</h1>\n",
    "<h3>Which is heavier amongst the penguin species, Male Or Female</h3>\n",
    "<h5>Male is heavier than Female</h5>"
   ]
  },
  {
   "cell_type": "code",
   "execution_count": 67,
   "id": "da4b67ed-1ec9-45c7-bf19-e9f75daf93b4",
   "metadata": {},
   "outputs": [
    {
     "name": "stderr",
     "output_type": "stream",
     "text": [
      "C:\\Users\\User\\AppData\\Local\\Temp\\ipykernel_7692\\1884901653.py:1: FutureWarning: The default of observed=False is deprecated and will be changed to True in a future version of pandas. Pass observed=False to retain current behavior or observed=True to adopt the future default and silence this warning.\n",
      "  c = pengwins.groupby(['species', 'sex'])['weight_kg'].mean()\n"
     ]
    },
    {
     "data": {
      "text/plain": [
       "species    sex   \n",
       "Adelie     FEMALE    24.3\n",
       "           MALE      26.3\n",
       "Chinstrap  FEMALE    11.3\n",
       "           MALE      11.3\n",
       "Gentoo     FEMALE    19.3\n",
       "           MALE      22.0\n",
       "Name: weight_kg, dtype: float64"
      ]
     },
     "execution_count": 67,
     "metadata": {},
     "output_type": "execute_result"
    }
   ],
   "source": [
    "c = pengwins.groupby(['species', 'sex'])['weight_kg'].mean()\n",
    "np.round(c, 1)"
   ]
  },
  {
   "cell_type": "markdown",
   "id": "864e3913-7d92-4ed5-8f3e-edb0cc9fff22",
   "metadata": {},
   "source": [
    "<h1>Unstack</h1>"
   ]
  },
  {
   "cell_type": "code",
   "execution_count": 68,
   "id": "4529708b-36d9-4129-859b-2d979fbc79da",
   "metadata": {},
   "outputs": [
    {
     "data": {
      "text/html": [
       "<div>\n",
       "<style scoped>\n",
       "    .dataframe tbody tr th:only-of-type {\n",
       "        vertical-align: middle;\n",
       "    }\n",
       "\n",
       "    .dataframe tbody tr th {\n",
       "        vertical-align: top;\n",
       "    }\n",
       "\n",
       "    .dataframe thead th {\n",
       "        text-align: right;\n",
       "    }\n",
       "</style>\n",
       "<table border=\"1\" class=\"dataframe\">\n",
       "  <thead>\n",
       "    <tr style=\"text-align: right;\">\n",
       "      <th>sex</th>\n",
       "      <th>FEMALE</th>\n",
       "      <th>MALE</th>\n",
       "    </tr>\n",
       "    <tr>\n",
       "      <th>species</th>\n",
       "      <th></th>\n",
       "      <th></th>\n",
       "    </tr>\n",
       "  </thead>\n",
       "  <tbody>\n",
       "    <tr>\n",
       "      <th>Adelie</th>\n",
       "      <td>24.333333</td>\n",
       "      <td>26.333333</td>\n",
       "    </tr>\n",
       "    <tr>\n",
       "      <th>Chinstrap</th>\n",
       "      <td>11.333333</td>\n",
       "      <td>11.333333</td>\n",
       "    </tr>\n",
       "    <tr>\n",
       "      <th>Gentoo</th>\n",
       "      <td>19.333333</td>\n",
       "      <td>22.000000</td>\n",
       "    </tr>\n",
       "  </tbody>\n",
       "</table>\n",
       "</div>"
      ],
      "text/plain": [
       "sex           FEMALE       MALE\n",
       "species                        \n",
       "Adelie     24.333333  26.333333\n",
       "Chinstrap  11.333333  11.333333\n",
       "Gentoo     19.333333  22.000000"
      ]
     },
     "execution_count": 68,
     "metadata": {},
     "output_type": "execute_result"
    }
   ],
   "source": [
    "c.unstack()"
   ]
  },
  {
   "cell_type": "markdown",
   "id": "bc000031-ccbf-4e7d-ae52-b39e3eed62b7",
   "metadata": {},
   "source": [
    "<h1>Correlation</h1>"
   ]
  },
  {
   "cell_type": "markdown",
   "id": "503a2b05-6124-42c7-9e69-efa479bfec6b",
   "metadata": {},
   "source": [
    "<h1>Question 10. Correlation between flipper length and Flipper Depth</h1>"
   ]
  },
  {
   "cell_type": "markdown",
   "id": "9f4d390f-6fdc-4291-81ae-f4b52696cf85",
   "metadata": {},
   "source": [
    "<h3>Syntax Requirements</h3>\n",
    "<ul>\n",
    "    <li>Variable Name for Correlation Result</li>\n",
    "    <li>First Column</li>\n",
    "    <li>Corr Function</li>\n",
    "    <li>Second Column</li>\n",
    "</ul>\n"
   ]
  },
  {
   "cell_type": "code",
   "execution_count": 83,
   "id": "fb3f62f5-507f-4592-ba17-27debcb08434",
   "metadata": {},
   "outputs": [],
   "source": [
    "depth_length = birdy ['bill_length_mm'].corr(birdy['bill_depth_mm'])"
   ]
  },
  {
   "cell_type": "code",
   "execution_count": 84,
   "id": "34f58efd-a873-4b77-ba89-80c3b8b701b0",
   "metadata": {},
   "outputs": [
    {
     "data": {
      "text/plain": [
       "-0.23505287035553277"
      ]
     },
     "execution_count": 84,
     "metadata": {},
     "output_type": "execute_result"
    }
   ],
   "source": [
    "depth_length"
   ]
  },
  {
   "cell_type": "markdown",
   "id": "1c2e7d40-6e33-4e87-8000-1660017e8826",
   "metadata": {},
   "source": [
    "<h1>Question 10</h1>\n",
    "<h1>bill depth and bill length</h1>"
   ]
  },
  {
   "cell_type": "code",
   "execution_count": 87,
   "id": "e0c7f737-9397-4338-b237-1f0dd17daa0f",
   "metadata": {},
   "outputs": [],
   "source": [
    "depth_length = birdy ['bill_length_mm'].corr(birdy['bill_depth_mm'])"
   ]
  },
  {
   "cell_type": "code",
   "execution_count": 88,
   "id": "9263ebf5-f13a-4e22-ae8b-0e8c33531406",
   "metadata": {},
   "outputs": [
    {
     "data": {
      "text/plain": [
       "-0.23505287035553277"
      ]
     },
     "execution_count": 88,
     "metadata": {},
     "output_type": "execute_result"
    }
   ],
   "source": [
    "depth_length"
   ]
  },
  {
   "cell_type": "markdown",
   "id": "a01b76ff-5b68-4ae9-b8c2-0f18a79a8055",
   "metadata": {},
   "source": [
    "<h3>Insight 10</h3>\n",
    "<h4>There is no correlation between bill depth and bill length</h4>"
   ]
  },
  {
   "cell_type": "markdown",
   "id": "2ef13365-2b13-424b-8de9-d9af2ebb8153",
   "metadata": {},
   "source": [
    "<h1>Question 11</h1>\n",
    "<h1>Bill Length and Flipper length</h1>"
   ]
  },
  {
   "cell_type": "code",
   "execution_count": 90,
   "id": "d8b48667-4fb6-44d1-91c7-188e145ba986",
   "metadata": {},
   "outputs": [],
   "source": [
    "bf_depth_length = birdy ['bill_length_mm'].corr(birdy['flipper_length_mm'])"
   ]
  },
  {
   "cell_type": "code",
   "execution_count": 91,
   "id": "4f4e82fd-c191-415b-bb99-6c580bd6dc61",
   "metadata": {},
   "outputs": [
    {
     "data": {
      "text/plain": [
       "0.6561813407464281"
      ]
     },
     "execution_count": 91,
     "metadata": {},
     "output_type": "execute_result"
    }
   ],
   "source": [
    "bf_depth_length"
   ]
  },
  {
   "cell_type": "markdown",
   "id": "3165472c-5497-4072-a25a-02b694b163fd",
   "metadata": {},
   "source": [
    "<h3>Insight 11</h3>\n",
    "<h3>There is a correlation between bill length and flipper length</h3>"
   ]
  },
  {
   "cell_type": "markdown",
   "id": "4fbf8c17-28c6-439d-b1f5-852962afad32",
   "metadata": {},
   "source": [
    "<h1>Question 12</h1>\n",
    "<h1>bill length and body mass</h1>"
   ]
  },
  {
   "cell_type": "code",
   "execution_count": 93,
   "id": "ac961807-1df7-4fe4-add0-4374b2cf39d1",
   "metadata": {},
   "outputs": [],
   "source": [
    "bb_length_mass = birdy ['bill_length_mm'].corr(birdy['body_mass_g'])"
   ]
  },
  {
   "cell_type": "code",
   "execution_count": 94,
   "id": "79a4050c-8f51-4e39-9b7c-9456706032b7",
   "metadata": {},
   "outputs": [
    {
     "data": {
      "text/plain": [
       "0.5951098244376302"
      ]
     },
     "execution_count": 94,
     "metadata": {},
     "output_type": "execute_result"
    }
   ],
   "source": [
    "bb_length_mass"
   ]
  },
  {
   "cell_type": "markdown",
   "id": "0ec40563-03d0-4a8a-974d-ee6f49fb35e4",
   "metadata": {},
   "source": [
    "<h1>Insight 12</h1>\n",
    "<h3>There is a correlation between bill length and flipper length</h3>"
   ]
  },
  {
   "cell_type": "markdown",
   "id": "bd8478ca-0bb9-49ce-8e36-9d954ef79c0e",
   "metadata": {},
   "source": [
    "<h1>Question 13</h1>\n",
    "<h1>bill depth and bill length in the chinstrap species</h1>"
   ]
  },
  {
   "cell_type": "code",
   "execution_count": 16,
   "id": "9e33b312-6c0d-44ef-9c43-3112b1ffa061",
   "metadata": {},
   "outputs": [
    {
     "data": {
      "text/plain": [
       "True"
      ]
     },
     "execution_count": 16,
     "metadata": {},
     "output_type": "execute_result"
    }
   ],
   "source": [
    "chinchin = birdy[(birdy['species'] == 'Chinstrap')]\n",
    "chini = chinchin['bill_depth_mm'].corr(chinchin['bill_length_mm'])\n",
    "chini>0.05"
   ]
  },
  {
   "cell_type": "code",
   "execution_count": 18,
   "id": "697418de-db63-41b9-aeb0-d98e273ec25b",
   "metadata": {},
   "outputs": [
    {
     "data": {
      "text/plain": [
       "0.6535362081800428"
      ]
     },
     "execution_count": 18,
     "metadata": {},
     "output_type": "execute_result"
    }
   ],
   "source": [
    "chini"
   ]
  },
  {
   "cell_type": "markdown",
   "id": "4b6cd908-d00b-4058-b4c6-d8d94e0e12d1",
   "metadata": {},
   "source": [
    "<h1>Insight 13</h1>\n",
    "<h3>There is a correlation between bill depth and bill length in chinstrap species</h3>"
   ]
  },
  {
   "cell_type": "markdown",
   "id": "ced76979-6d77-428c-a19d-fcf5ce22309c",
   "metadata": {},
   "source": [
    "<h1>Question 14</h1>\n",
    "<h1>bill depth and bill length in the Gentoo species</h1>"
   ]
  },
  {
   "cell_type": "code",
   "execution_count": 20,
   "id": "8ae5d965-4f90-4cee-ab61-68cf808ff441",
   "metadata": {},
   "outputs": [
    {
     "data": {
      "text/plain": [
       "True"
      ]
     },
     "execution_count": 20,
     "metadata": {},
     "output_type": "execute_result"
    }
   ],
   "source": [
    "gengen = birdy[(birdy['species'] == 'Gentoo')]\n",
    "gen = gengen['bill_depth_mm'].corr(gengen['bill_length_mm'])\n",
    "gen>0.05"
   ]
  },
  {
   "cell_type": "code",
   "execution_count": 21,
   "id": "93426aab-1de7-4a86-8ea5-4d3b84b67f09",
   "metadata": {},
   "outputs": [
    {
     "data": {
      "text/plain": [
       "0.6433839465253388"
      ]
     },
     "execution_count": 21,
     "metadata": {},
     "output_type": "execute_result"
    }
   ],
   "source": [
    "gen"
   ]
  },
  {
   "cell_type": "markdown",
   "id": "260cf940-900e-44eb-8506-6aec9bb63491",
   "metadata": {},
   "source": [
    "<h1>Insight 14</h1>\n",
    "<h3>There is a correlation between bill depth and bill length in gentoo species</h3>"
   ]
  },
  {
   "cell_type": "markdown",
   "id": "8106980c-1497-4f6a-a495-06049c703e70",
   "metadata": {},
   "source": [
    "<h1>Question 15</h1>\n",
    "<h1>flipper length and bodymass</h1>"
   ]
  },
  {
   "cell_type": "code",
   "execution_count": null,
   "id": "63295d24-243f-4697-96fc-ebd5f4c6eeeb",
   "metadata": {},
   "outputs": [],
   "source": []
  },
  {
   "cell_type": "markdown",
   "id": "2c07d23d-8b17-4d8f-8da0-b2afdba48e66",
   "metadata": {},
   "source": [
    "<h1>Correlation Analysis between Qualitative Data and Quantitative</h1>\n",
    "<h1>Package : Science Python Scipy<h1>\n",
    "<h3>Testing Correlation Using one way anova, Analysis of Variance</h3>"
   ]
  },
  {
   "cell_type": "code",
   "execution_count": 1,
   "id": "280e0653-38e6-4e91-8375-056501b03f32",
   "metadata": {},
   "outputs": [
    {
     "name": "stdout",
     "output_type": "stream",
     "text": [
      "Requirement already satisfied: scipy in c:\\users\\user\\appdata\\local\\programs\\python\\python311\\lib\\site-packages (1.13.0)\n",
      "Requirement already satisfied: numpy<2.3,>=1.22.4 in c:\\users\\user\\appdata\\local\\programs\\python\\python311\\lib\\site-packages (from scipy) (1.26.0)\n",
      "Note: you may need to restart the kernel to use updated packages.\n"
     ]
    },
    {
     "name": "stderr",
     "output_type": "stream",
     "text": [
      "\n",
      "[notice] A new release of pip is available: 24.0 -> 25.0.1\n",
      "[notice] To update, run: python.exe -m pip install --upgrade pip\n"
     ]
    }
   ],
   "source": [
    "pip install scipy"
   ]
  },
  {
   "cell_type": "code",
   "execution_count": 6,
   "id": "718cfaba-f7f9-46c0-94e1-2959c8d0f415",
   "metadata": {},
   "outputs": [],
   "source": [
    "from scipy.stats import f_oneway"
   ]
  },
  {
   "cell_type": "markdown",
   "id": "fb7852da-04c7-48fc-ad82-dac1e053dcd6",
   "metadata": {},
   "source": [
    "<h1>Insight 16</h1>"
   ]
  },
  {
   "cell_type": "markdown",
   "id": "480d5d7f-9d46-4ef9-8411-7a25b4f11b51",
   "metadata": {},
   "source": [
    "<h2>Syntax Requirements \n",
    "<ul>\n",
    "    <li> specify the values for categorical data</li>\n",
    "    <li> specify the quantitative data</li>\n",
    "</ul>"
   ]
  },
  {
   "cell_type": "code",
   "execution_count": 14,
   "id": "32d598d1-db69-44c2-94be-0627d172a774",
   "metadata": {},
   "outputs": [
    {
     "name": "stdout",
     "output_type": "stream",
     "text": [
      "4.897246751596322e-16\n"
     ]
    }
   ],
   "source": [
    "#male\n",
    "#female\n",
    "\n",
    "f_stats, p_value = f_oneway(birdy[birdy['sex'] == 'MALE']['body_mass_g'],\n",
    "                            birdy[birdy['sex'] == 'FEMALE']['body_mass_g'])\n",
    "print(p_value)"
   ]
  },
  {
   "cell_type": "code",
   "execution_count": null,
   "id": "fc08827d-3d78-49f7-aa40-a8ab8d5f5213",
   "metadata": {},
   "outputs": [],
   "source": []
  }
 ],
 "metadata": {
  "kernelspec": {
   "display_name": "Python 3 (ipykernel)",
   "language": "python",
   "name": "python3"
  },
  "language_info": {
   "codemirror_mode": {
    "name": "ipython",
    "version": 3
   },
   "file_extension": ".py",
   "mimetype": "text/x-python",
   "name": "python",
   "nbconvert_exporter": "python",
   "pygments_lexer": "ipython3",
   "version": "3.11.3"
  }
 },
 "nbformat": 4,
 "nbformat_minor": 5
}
